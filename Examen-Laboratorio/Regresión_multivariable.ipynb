{
  "nbformat": 4,
  "nbformat_minor": 0,
  "metadata": {
    "colab": {
      "provenance": []
    },
    "kernelspec": {
      "name": "python3",
      "display_name": "Python 3"
    },
    "language_info": {
      "name": "python"
    }
  },
  "cells": [
    {
      "cell_type": "code",
      "execution_count": null,
      "metadata": {
        "id": "fBNO_LEBKfl1"
      },
      "outputs": [],
      "source": [
        "import torch\n",
        "import torch.nn as nn\n",
        "import torch.optim as optim\n",
        "import numpy as np\n",
        "import pandas as pd\n",
        "# se utiliza para codificar variables categóricas en variables numéricas\n",
        "from sklearn.preprocessing import LabelEncoder"
      ]
    },
    {
      "cell_type": "code",
      "source": [
        "# Cargar los datos desde el archivo CSV\n",
        "data = pd.read_csv('/content/Smart watch prices.csv')"
      ],
      "metadata": {
        "id": "7boiu2YbKuV8"
      },
      "execution_count": null,
      "outputs": []
    },
    {
      "cell_type": "code",
      "source": [
        "data.info()"
      ],
      "metadata": {
        "colab": {
          "base_uri": "https://localhost:8080/"
        },
        "id": "hOXCskd3K16Z",
        "outputId": "011e1809-5c53-4796-87df-4602ce632581"
      },
      "execution_count": null,
      "outputs": [
        {
          "output_type": "stream",
          "name": "stdout",
          "text": [
            "<class 'pandas.core.frame.DataFrame'>\n",
            "RangeIndex: 379 entries, 0 to 378\n",
            "Data columns (total 13 columns):\n",
            " #   Column                     Non-Null Count  Dtype  \n",
            "---  ------                     --------------  -----  \n",
            " 0   Brand                      378 non-null    object \n",
            " 1   Model                      378 non-null    object \n",
            " 2   Operating System           376 non-null    object \n",
            " 3   Connectivity               378 non-null    object \n",
            " 4   Display Type               377 non-null    object \n",
            " 5   Display Size (inches)      376 non-null    float64\n",
            " 6   Resolution                 375 non-null    object \n",
            " 7   Water Resistance (meters)  378 non-null    object \n",
            " 8   Battery Life (days)        378 non-null    object \n",
            " 9   Heart Rate Monitor         378 non-null    object \n",
            " 10  GPS                        378 non-null    object \n",
            " 11  NFC                        378 non-null    object \n",
            " 12  Price (USD)                378 non-null    object \n",
            "dtypes: float64(1), object(12)\n",
            "memory usage: 38.6+ KB\n"
          ]
        }
      ]
    },
    {
      "cell_type": "code",
      "source": [
        "columnas_eliminar = ['Price (USD)']\n",
        "simbolo = '$'\n",
        "\n",
        "# solo se pone en bucle una vez ya que hay un solo dato en la lista.\n",
        "for columna in columnas_eliminar:\n",
        "    # str.replace es metodo de pandas\n",
        "    # se asegura que el símbolo \"$\" se trate como una cadena literal en lugar de una expresión regular\n",
        "    data[columna] = data[columna].str.replace(simbolo, '', regex=False)"
      ],
      "metadata": {
        "id": "jsGk1p-BK8y9"
      },
      "execution_count": null,
      "outputs": []
    },
    {
      "cell_type": "code",
      "source": [
        "# Supongamos que 'data' es tu DataFrame\n",
        "columna_categorica = 'Price (USD)'\n",
        "columna_numerica = 'Price'\n",
        "\n",
        "# Crea una nueva columna numérica y copia los valores de la columna categórica\n",
        "# to_numeric se utiliza para cambiar de categoricas a numericas\n",
        "# El parámetro errors='coerce' indica que si hay valores no numéricos se establescan como NaN en la nueva columna.\n",
        "data[columna_numerica] = pd.to_numeric(data[columna_categorica], errors='coerce')\n",
        "\n",
        "# Elimina la columna categórica original\n",
        "# axis indica que solo se eliminara una columna\n",
        "# inplace indica que se debe modificar directamente en el data\n",
        "data.drop(columna_categorica, axis=1, inplace=True)"
      ],
      "metadata": {
        "id": "D6srYORyLBq-"
      },
      "execution_count": null,
      "outputs": []
    },
    {
      "cell_type": "code",
      "source": [
        "#variables categoricas\n",
        "# con select_dtypes seleccionamos las columnas de data de tipo object\n",
        "columnas_categoricas = data.select_dtypes(include=['object']).columns"
      ],
      "metadata": {
        "id": "eJ-ytiboLEzZ"
      },
      "execution_count": null,
      "outputs": []
    },
    {
      "cell_type": "code",
      "source": [
        "#Procesamiento de frases o palabras\n",
        "for columna in columnas_categoricas:\n",
        "  # se crea una instancia (se utiliza para convetir categoricos a numericos)\n",
        "  le = LabelEncoder()\n",
        "  # cambia de categoricos a numericos unico\n",
        "  data[columna] = le.fit_transform(data[columna])"
      ],
      "metadata": {
        "id": "jSHFC4U9LGY2"
      },
      "execution_count": null,
      "outputs": []
    },
    {
      "cell_type": "code",
      "source": [
        "data.info()"
      ],
      "metadata": {
        "colab": {
          "base_uri": "https://localhost:8080/"
        },
        "id": "AH44SnpzK-Gl",
        "outputId": "6b3e6ea0-a736-461f-b1d6-10ad951cd3e9"
      },
      "execution_count": null,
      "outputs": [
        {
          "output_type": "stream",
          "name": "stdout",
          "text": [
            "<class 'pandas.core.frame.DataFrame'>\n",
            "RangeIndex: 379 entries, 0 to 378\n",
            "Data columns (total 13 columns):\n",
            " #   Column                     Non-Null Count  Dtype  \n",
            "---  ------                     --------------  -----  \n",
            " 0   Brand                      379 non-null    int64  \n",
            " 1   Model                      379 non-null    int64  \n",
            " 2   Operating System           379 non-null    int64  \n",
            " 3   Connectivity               379 non-null    int64  \n",
            " 4   Display Type               379 non-null    int64  \n",
            " 5   Display Size (inches)      376 non-null    float64\n",
            " 6   Resolution                 379 non-null    int64  \n",
            " 7   Water Resistance (meters)  379 non-null    int64  \n",
            " 8   Battery Life (days)        379 non-null    int64  \n",
            " 9   Heart Rate Monitor         379 non-null    int64  \n",
            " 10  GPS                        379 non-null    int64  \n",
            " 11  NFC                        379 non-null    int64  \n",
            " 12  Price                      372 non-null    float64\n",
            "dtypes: float64(2), int64(11)\n",
            "memory usage: 38.6 KB\n"
          ]
        }
      ]
    },
    {
      "cell_type": "code",
      "source": [
        "#llenar datos vacios\n",
        "columnas_especificas = ['Price', 'Display Size (inches)']\n",
        "# se calcula la media de las columnas seleccionadas\n",
        "media_columnas = data[columnas_especificas].mean()\n",
        "# fill == llenar\n",
        "data[columnas_especificas] = data[columnas_especificas].fillna(media_columnas)"
      ],
      "metadata": {
        "id": "C1YrcqH_LXUo"
      },
      "execution_count": null,
      "outputs": []
    },
    {
      "cell_type": "code",
      "source": [
        "data.info()"
      ],
      "metadata": {
        "colab": {
          "base_uri": "https://localhost:8080/"
        },
        "id": "wKLsrMTYLYSd",
        "outputId": "c58b2acc-96cc-4571-9a2c-e573e6a47be5"
      },
      "execution_count": null,
      "outputs": [
        {
          "output_type": "stream",
          "name": "stdout",
          "text": [
            "<class 'pandas.core.frame.DataFrame'>\n",
            "RangeIndex: 379 entries, 0 to 378\n",
            "Data columns (total 13 columns):\n",
            " #   Column                     Non-Null Count  Dtype  \n",
            "---  ------                     --------------  -----  \n",
            " 0   Brand                      379 non-null    int64  \n",
            " 1   Model                      379 non-null    int64  \n",
            " 2   Operating System           379 non-null    int64  \n",
            " 3   Connectivity               379 non-null    int64  \n",
            " 4   Display Type               379 non-null    int64  \n",
            " 5   Display Size (inches)      379 non-null    float64\n",
            " 6   Resolution                 379 non-null    int64  \n",
            " 7   Water Resistance (meters)  379 non-null    int64  \n",
            " 8   Battery Life (days)        379 non-null    int64  \n",
            " 9   Heart Rate Monitor         379 non-null    int64  \n",
            " 10  GPS                        379 non-null    int64  \n",
            " 11  NFC                        379 non-null    int64  \n",
            " 12  Price                      379 non-null    float64\n",
            "dtypes: float64(2), int64(11)\n",
            "memory usage: 38.6 KB\n"
          ]
        }
      ]
    },
    {
      "cell_type": "code",
      "source": [
        "# Obtener las características (X) y los valores objetivo (y)\n",
        "X = torch.tensor(data[['Brand', 'Model', 'Operating System', 'Connectivity', 'Display Type', 'Display Size (inches)', 'Resolution', 'Water Resistance (meters)', 'Battery Life (days)', 'Heart Rate Monitor', 'GPS', 'NFC']].values, dtype=torch.float32)\n",
        "y = torch.tensor(data['Price'].values, dtype=torch.float32)"
      ],
      "metadata": {
        "id": "A7NaIfWBKxgf"
      },
      "execution_count": null,
      "outputs": []
    },
    {
      "cell_type": "code",
      "source": [
        "print((X))"
      ],
      "metadata": {
        "colab": {
          "base_uri": "https://localhost:8080/"
        },
        "id": "YcbvW0WGMGiv",
        "outputId": "7ce6e13b-3aa4-4e21-e49c-56044b6fb391"
      },
      "execution_count": null,
      "outputs": [
        {
          "output_type": "stream",
          "name": "stdout",
          "text": [
            "tensor([[  1., 127.,  34.,  ...,   0.,   1.,   1.],\n",
            "        [ 30.,  36.,  31.,  ...,   0.,   1.,   1.],\n",
            "        [  8., 105.,   9.,  ...,   0.,   1.,   0.],\n",
            "        ...,\n",
            "        [  9., 119.,  12.,  ...,   0.,   1.,   1.],\n",
            "        [ 26., 118.,   5.,  ...,   0.,   0.,   1.],\n",
            "        [ 35.,  71.,  31.,  ...,   0.,   1.,   1.]])\n"
          ]
        }
      ]
    },
    {
      "cell_type": "code",
      "source": [
        "data.info()"
      ],
      "metadata": {
        "colab": {
          "base_uri": "https://localhost:8080/"
        },
        "id": "2WHnJ0YGP8JC",
        "outputId": "0b4f50d7-4b7c-4bf1-9f12-bdf957c481b7"
      },
      "execution_count": null,
      "outputs": [
        {
          "output_type": "stream",
          "name": "stdout",
          "text": [
            "<class 'pandas.core.frame.DataFrame'>\n",
            "RangeIndex: 379 entries, 0 to 378\n",
            "Data columns (total 13 columns):\n",
            " #   Column                     Non-Null Count  Dtype  \n",
            "---  ------                     --------------  -----  \n",
            " 0   Brand                      379 non-null    int64  \n",
            " 1   Model                      379 non-null    int64  \n",
            " 2   Operating System           379 non-null    int64  \n",
            " 3   Connectivity               379 non-null    int64  \n",
            " 4   Display Type               379 non-null    int64  \n",
            " 5   Display Size (inches)      379 non-null    float64\n",
            " 6   Resolution                 379 non-null    int64  \n",
            " 7   Water Resistance (meters)  379 non-null    int64  \n",
            " 8   Battery Life (days)        379 non-null    int64  \n",
            " 9   Heart Rate Monitor         379 non-null    int64  \n",
            " 10  GPS                        379 non-null    int64  \n",
            " 11  NFC                        379 non-null    int64  \n",
            " 12  Price                      379 non-null    float64\n",
            "dtypes: float64(2), int64(11)\n",
            "memory usage: 38.6 KB\n"
          ]
        }
      ]
    },
    {
      "cell_type": "code",
      "source": [
        "# Definir el modelo de regresión\n",
        "class RegressionModel(nn.Module):\n",
        "    def __init__(self, input_size):\n",
        "        super(RegressionModel, self).__init__()\n",
        "        self.linear = nn.Linear(input_size, 1)\n",
        "\n",
        "    def forward(self, x):\n",
        "        return self.linear(x)"
      ],
      "metadata": {
        "id": "wAp3mAN3QAHx"
      },
      "execution_count": null,
      "outputs": []
    },
    {
      "cell_type": "code",
      "source": [
        "# Crear una instancia del modelo\n",
        "input_size = X.shape[1]\n",
        "model = RegressionModel(input_size)\n",
        "\n",
        "# Definir la función de pérdida y el optimizador\n",
        "criterion = nn.MSELoss()\n",
        "optimizer = optim.Adam(model.parameters(), lr=0.001)"
      ],
      "metadata": {
        "id": "LY9FyW1uQBp7"
      },
      "execution_count": null,
      "outputs": []
    },
    {
      "cell_type": "code",
      "source": [
        "# Entrenamiento del modelo\n",
        "num_epochs = 100\n",
        "batch_size = 32\n",
        "\n",
        "for epoch in range(num_epochs):\n",
        "    # Dividir los datos en lotes\n",
        "    for i in range(0, len(X), batch_size):\n",
        "        batch_X = X[i:i+batch_size]\n",
        "        batch_y = y[i:i+batch_size]\n",
        "\n",
        "        # Forward pass\n",
        "        outputs = model(batch_X)\n",
        "        loss = criterion(outputs, batch_y.view(-1, 1))\n",
        "\n",
        "        # Backward pass y actualización de los pesos\n",
        "        optimizer.zero_grad()\n",
        "        loss.backward()\n",
        "        optimizer.step()\n",
        "\n",
        "    # Imprimir la pérdida en cada época\n",
        "    if (epoch+1) % 10 == 0:\n",
        "        print(f'Epoch [{epoch+1}/{num_epochs}], Loss: {loss.item():.4f}')"
      ],
      "metadata": {
        "colab": {
          "base_uri": "https://localhost:8080/"
        },
        "id": "erF6fXrgQDjE",
        "outputId": "2acaa3f5-bea7-4664-f372-c5189911f3c3"
      },
      "execution_count": null,
      "outputs": [
        {
          "output_type": "stream",
          "name": "stdout",
          "text": [
            "Epoch [10/100], Loss: 100220.6094\n",
            "Epoch [20/100], Loss: 91338.3672\n",
            "Epoch [30/100], Loss: 83450.5547\n",
            "Epoch [40/100], Loss: 76479.5625\n",
            "Epoch [50/100], Loss: 70349.9609\n",
            "Epoch [60/100], Loss: 64989.2266\n",
            "Epoch [70/100], Loss: 60327.6797\n",
            "Epoch [80/100], Loss: 56298.3945\n",
            "Epoch [90/100], Loss: 52837.1602\n",
            "Epoch [100/100], Loss: 49882.4805\n"
          ]
        }
      ]
    },
    {
      "cell_type": "code",
      "source": [
        "fila_deseada = 11\n",
        "\n",
        "if fila_deseada < len(data):\n",
        "  fila_completa = data.iloc[fila_deseada].tolist()\n",
        "  print(fila_completa)\n",
        "else:\n",
        "  print(\"La fila no existe\")"
      ],
      "metadata": {
        "id": "u98oIzONb3xK",
        "outputId": "c9c1535b-1258-4ca3-f4a3-4b805f6a7d1e",
        "colab": {
          "base_uri": "https://localhost:8080/"
        }
      },
      "execution_count": null,
      "outputs": [
        {
          "output_type": "stream",
          "name": "stdout",
          "text": [
            "[37.0, 57.0, 35.0, 0.0, 0.0, 1.2, 25.0, 4.0, 13.0, 0.0, 0.0, 0.0, 179.0]\n"
          ]
        }
      ]
    },
    {
      "cell_type": "code",
      "source": [
        "X_input = torch.tensor([37.0, 57.0, 35.0, 0.0, 0.0, 1.2, 25.0, 4.0, 13.0, 0.0, 0.0, 0.0], dtype=torch.float32)\n",
        "# pred\n",
        "# Hacer la predicción\n",
        "model.eval()  # Activar el modo de evaluación\n",
        "with torch.no_grad():\n",
        "    y_pred = model(X_input)\n",
        "\n",
        "print(f'Precio predicho: {y_pred.item()}')"
      ],
      "metadata": {
        "colab": {
          "base_uri": "https://localhost:8080/"
        },
        "id": "PQPiSN4KaZ1S",
        "outputId": "0368aeed-8348-46bb-e46b-9d610e01faf1"
      },
      "execution_count": null,
      "outputs": [
        {
          "output_type": "stream",
          "name": "stdout",
          "text": [
            "Precio predicho: 181.4658660888672\n"
          ]
        }
      ]
    }
  ]
}