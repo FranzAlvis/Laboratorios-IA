{
  "nbformat": 4,
  "nbformat_minor": 0,
  "metadata": {
    "colab": {
      "provenance": []
    },
    "kernelspec": {
      "name": "python3",
      "display_name": "Python 3"
    },
    "language_info": {
      "name": "python"
    }
  },
  "cells": [
    {
      "cell_type": "code",
      "source": [
        "import pandas as pd\n",
        "import torch\n",
        "import torch.nn as nn\n",
        "import torch.optim as optim\n",
        "from torch.utils.data import Dataset, DataLoader\n",
        "\n",
        "# Cargar el DataFrame de pandas\n",
        "data = pd.read_csv('/content/MAHD.csv')  # Reemplaza 'ruta_del_archivo.csv' con la ubicación real del archivo\n",
        "\n",
        "# Eliminar columnas no necesarias\n",
        "data = data.drop('Unnamed: 0', axis=1)\n"
      ],
      "metadata": {
        "id": "N3jBJdz7rM8b"
      },
      "execution_count": 1,
      "outputs": []
    },
    {
      "cell_type": "code",
      "source": [
        "# Definir la clase del conjunto de datos personalizado\n",
        "class MNISTDataset(Dataset):\n",
        "    def __init__(self, data):\n",
        "        self.data = data\n",
        "        self.labels = data['label'].values\n",
        "        self.features = data.drop('label', axis=1).values.astype('float32')\n",
        "\n",
        "    def __len__(self):\n",
        "        return len(self.data)\n",
        "\n",
        "    def __getitem__(self, idx):\n",
        "        label = self.labels[idx]\n",
        "        features = self.features[idx]\n",
        "        return torch.tensor(features), torch.tensor(label)"
      ],
      "metadata": {
        "id": "_5WSZeiorRqL"
      },
      "execution_count": 2,
      "outputs": []
    },
    {
      "cell_type": "code",
      "source": [
        "# Crear instancias del conjunto de datos de entrenamiento y prueba\n",
        "dataset = MNISTDataset(data)\n",
        "train_size = int(0.8 * len(dataset))\n",
        "train_dataset, test_dataset = torch.utils.data.random_split(dataset, [train_size, len(dataset) - train_size])"
      ],
      "metadata": {
        "id": "JrZSI9urrTTu"
      },
      "execution_count": 3,
      "outputs": []
    },
    {
      "cell_type": "code",
      "source": [
        "# Definir el modelo del perceptrón\n",
        "class Perceptron(nn.Module):\n",
        "    def __init__(self):\n",
        "        super(Perceptron, self).__init__()\n",
        "        self.fc = nn.Linear(784, 10)  # Capa lineal de entrada (784) a salida (10)\n",
        "\n",
        "    def forward(self, x):\n",
        "        x = self.fc(x)\n",
        "        return x"
      ],
      "metadata": {
        "id": "Ng4N_0UQrV5g"
      },
      "execution_count": 4,
      "outputs": []
    },
    {
      "cell_type": "code",
      "source": [
        "# Crear la instancia del modelo y definir la función de pérdida y el optimizador\n",
        "model = Perceptron()\n",
        "criterion = nn.CrossEntropyLoss()\n",
        "optimizer = optim.SGD(model.parameters(), lr=0.001)\n",
        "\n",
        "# Crear los iteradores de carga de datos\n",
        "train_loader = DataLoader(train_dataset, batch_size=128, shuffle=True)\n",
        "test_loader = DataLoader(test_dataset, batch_size=128, shuffle=False)"
      ],
      "metadata": {
        "id": "duYIWoB4rXQy"
      },
      "execution_count": 5,
      "outputs": []
    },
    {
      "cell_type": "code",
      "source": [
        "# Función de entrenamiento\n",
        "def train(model, train_loader, criterion, optimizer, num_epochs):\n",
        "    model.train()\n",
        "    for epoch in range(num_epochs):\n",
        "        running_loss = 0.0\n",
        "        for images, labels in train_loader:\n",
        "            optimizer.zero_grad()\n",
        "            outputs = model(images)\n",
        "            loss = criterion(outputs, labels)\n",
        "            loss.backward()\n",
        "            optimizer.step()\n",
        "            running_loss += loss.item()\n",
        "        print(f'Epoch [{epoch+1}/{num_epochs}], Loss: {running_loss/len(train_loader)}')"
      ],
      "metadata": {
        "id": "2DOvvcKLrYtx"
      },
      "execution_count": 6,
      "outputs": []
    },
    {
      "cell_type": "code",
      "source": [
        "# Función de evaluación\n",
        "def evaluate(model, test_loader, criterion):\n",
        "    model.eval()\n",
        "    correct = 0\n",
        "    total = 0\n",
        "    with torch.no_grad():\n",
        "        for images, labels in test_loader:\n",
        "            outputs = model(images)\n",
        "            _, predicted = torch.max(outputs.data, 1)\n",
        "            total += labels.size(0)\n",
        "            correct += (predicted == labels).sum().item()\n",
        "    accuracy = correct / total\n",
        "    print(f'Test Accuracy: {accuracy}')"
      ],
      "metadata": {
        "id": "tNwQrazirbUN"
      },
      "execution_count": 7,
      "outputs": []
    },
    {
      "cell_type": "code",
      "source": [
        "# Entrenar y evaluar el modelo\n",
        "num_epochs = 10\n",
        "train(model, train_loader, criterion, optimizer, num_epochs)\n",
        "evaluate(model, test_loader, criterion)\n",
        "\n",
        "#Cabe recalcar que el dataset que se eligio tiene problemas con la precision de entrenamiento dado que es muy bajo, ya sea utilizando con pytorch o no."
      ],
      "metadata": {
        "colab": {
          "base_uri": "https://localhost:8080/"
        },
        "id": "MY-bJH1jrdDe",
        "outputId": "695ad79f-f0d4-44a4-eaf9-c3c35b9092b4"
      },
      "execution_count": 8,
      "outputs": [
        {
          "output_type": "stream",
          "name": "stdout",
          "text": [
            "Epoch [1/10], Loss: 4.732202647483512\n",
            "Epoch [2/10], Loss: 2.7332982684923635\n",
            "Epoch [3/10], Loss: 2.666160572065066\n",
            "Epoch [4/10], Loss: 2.631966083017114\n",
            "Epoch [5/10], Loss: 2.6311165431863097\n",
            "Epoch [6/10], Loss: 2.6214406653626323\n",
            "Epoch [7/10], Loss: 2.6131207409514685\n",
            "Epoch [8/10], Loss: 2.607830497227847\n",
            "Epoch [9/10], Loss: 2.6087314864816187\n",
            "Epoch [10/10], Loss: 2.6021258912674368\n",
            "Test Accuracy: 0.3147857142857143\n"
          ]
        }
      ]
    }
  ]
}