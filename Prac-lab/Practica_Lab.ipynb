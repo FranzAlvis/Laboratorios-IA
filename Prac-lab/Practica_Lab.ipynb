{
  "cells": [
    {
      "cell_type": "code",
      "execution_count": null,
      "metadata": {
        "id": "GYTe60lFZlqg"
      },
      "outputs": [],
      "source": [
        "import pandas as pd"
      ]
    },
    {
      "cell_type": "code",
      "execution_count": null,
      "metadata": {
        "id": "oIlq_6NJZys6"
      },
      "outputs": [],
      "source": [
        "# Importar libreria para dividir entrenamiento y prueba\n",
        "from sklearn.model_selection import train_test_split"
      ]
    },
    {
      "cell_type": "code",
      "execution_count": null,
      "metadata": {
        "id": "mwiCvk28bbzn"
      },
      "outputs": [],
      "source": [
        "# se utiliza para el manejo de rutas y directorios.\n",
        "import os\n",
        "\n",
        "# Calculo cientifico y vectorial para python\n",
        "import numpy as np\n",
        "\n",
        "# Librerias para graficar\n",
        "from matplotlib import pyplot\n",
        "\n",
        "# Modulo de optimización de scipy\n",
        "from scipy import optimize\n",
        "\n",
        "# se utiliza para codificar variables categóricas en variables numéricas\n",
        "from sklearn.preprocessing import LabelEncoder\n",
        "\n",
        "# le dice a matplotlib que incruste gráficos en el cuaderno\n",
        "%matplotlib inline"
      ]
    },
    {
      "cell_type": "code",
      "execution_count": null,
      "metadata": {
        "id": "cr287GMr0y3H"
      },
      "outputs": [],
      "source": [
        "np.set_printoptions(suppress=True, precision=6)"
      ]
    },
    {
      "cell_type": "code",
      "execution_count": null,
      "metadata": {
        "id": "RMxR0SB8Z1sj"
      },
      "outputs": [],
      "source": [
        "#Carga de dataset\n",
        "data = pd.read_csv('/content/Bank_registries.csv', header=0)"
      ]
    },
    {
      "cell_type": "code",
      "execution_count": null,
      "metadata": {
        "colab": {
          "base_uri": "https://localhost:8080/"
        },
        "id": "0Jyw2zxjaR-U",
        "outputId": "0bf65214-ab34-4162-eb1c-d3a3197de420"
      },
      "outputs": [
        {
          "output_type": "stream",
          "name": "stdout",
          "text": [
            "<class 'pandas.core.frame.DataFrame'>\n",
            "RangeIndex: 10000 entries, 0 to 9999\n",
            "Data columns (total 14 columns):\n",
            " #   Column           Non-Null Count  Dtype  \n",
            "---  ------           --------------  -----  \n",
            " 0   RowNumber        10000 non-null  int64  \n",
            " 1   CustomerId       10000 non-null  int64  \n",
            " 2   Surname          10000 non-null  object \n",
            " 3   CreditScore      10000 non-null  int64  \n",
            " 4   Geography        10000 non-null  object \n",
            " 5   Gender           10000 non-null  object \n",
            " 6   Age              10000 non-null  int64  \n",
            " 7   Tenure           10000 non-null  int64  \n",
            " 8   Balance          10000 non-null  float64\n",
            " 9   NumOfProducts    10000 non-null  int64  \n",
            " 10  HasCrCard        10000 non-null  int64  \n",
            " 11  IsActiveMember   10000 non-null  int64  \n",
            " 12  EstimatedSalary  10000 non-null  float64\n",
            " 13  Exited           10000 non-null  int64  \n",
            "dtypes: float64(2), int64(9), object(3)\n",
            "memory usage: 1.1+ MB\n"
          ]
        }
      ],
      "source": [
        "data.info()"
      ]
    },
    {
      "cell_type": "code",
      "execution_count": null,
      "metadata": {
        "id": "5eSYdbGraejA"
      },
      "outputs": [],
      "source": [
        "#elimando columnas\n",
        "columnas = ['RowNumber', 'CustomerId', 'Surname']\n",
        "data.drop(columnas, axis=1, inplace=True)"
      ]
    },
    {
      "cell_type": "code",
      "execution_count": null,
      "metadata": {
        "colab": {
          "base_uri": "https://localhost:8080/"
        },
        "id": "6ka7bNqva4hk",
        "outputId": "16d04450-81c8-40d0-b763-02cac596cd92"
      },
      "outputs": [
        {
          "output_type": "stream",
          "name": "stdout",
          "text": [
            "<class 'pandas.core.frame.DataFrame'>\n",
            "RangeIndex: 10000 entries, 0 to 9999\n",
            "Data columns (total 11 columns):\n",
            " #   Column           Non-Null Count  Dtype  \n",
            "---  ------           --------------  -----  \n",
            " 0   CreditScore      10000 non-null  int64  \n",
            " 1   Geography        10000 non-null  object \n",
            " 2   Gender           10000 non-null  object \n",
            " 3   Age              10000 non-null  int64  \n",
            " 4   Tenure           10000 non-null  int64  \n",
            " 5   Balance          10000 non-null  float64\n",
            " 6   NumOfProducts    10000 non-null  int64  \n",
            " 7   HasCrCard        10000 non-null  int64  \n",
            " 8   IsActiveMember   10000 non-null  int64  \n",
            " 9   EstimatedSalary  10000 non-null  float64\n",
            " 10  Exited           10000 non-null  int64  \n",
            "dtypes: float64(2), int64(7), object(2)\n",
            "memory usage: 859.5+ KB\n"
          ]
        }
      ],
      "source": [
        "data.info()"
      ]
    },
    {
      "cell_type": "code",
      "execution_count": null,
      "metadata": {
        "id": "AKSw7ln5a7jj"
      },
      "outputs": [],
      "source": [
        "columnas_categoricas = data.select_dtypes(include=['object']).columns"
      ]
    },
    {
      "cell_type": "code",
      "execution_count": null,
      "metadata": {
        "colab": {
          "base_uri": "https://localhost:8080/"
        },
        "id": "ucH0lDRua_YA",
        "outputId": "3e066720-e912-4250-9031-a1965fd79dec"
      },
      "outputs": [
        {
          "output_type": "stream",
          "name": "stdout",
          "text": [
            "Index(['Geography', 'Gender'], dtype='object')\n"
          ]
        }
      ],
      "source": [
        "print(columnas_categoricas)"
      ]
    },
    {
      "cell_type": "code",
      "execution_count": null,
      "metadata": {
        "id": "PjUv370gbDg0"
      },
      "outputs": [],
      "source": [
        "#Procesamiento de frases o palabras\n",
        "for columna in columnas_categoricas:\n",
        "  # se crea una instancia (se utiliza para convetir categoricos a numericos)\n",
        "  le = LabelEncoder()\n",
        "  # cambia de categoricos a numericos unico\n",
        "  data[columna] = le.fit_transform(data[columna])"
      ]
    },
    {
      "cell_type": "code",
      "execution_count": null,
      "metadata": {
        "colab": {
          "base_uri": "https://localhost:8080/"
        },
        "id": "IRxaUhWsbrKH",
        "outputId": "074bc46b-f41b-4ff5-f22d-0b6d4a8bfe01"
      },
      "outputs": [
        {
          "output_type": "stream",
          "name": "stdout",
          "text": [
            "<class 'pandas.core.frame.DataFrame'>\n",
            "RangeIndex: 10000 entries, 0 to 9999\n",
            "Data columns (total 11 columns):\n",
            " #   Column           Non-Null Count  Dtype  \n",
            "---  ------           --------------  -----  \n",
            " 0   CreditScore      10000 non-null  int64  \n",
            " 1   Geography        10000 non-null  int64  \n",
            " 2   Gender           10000 non-null  int64  \n",
            " 3   Age              10000 non-null  int64  \n",
            " 4   Tenure           10000 non-null  int64  \n",
            " 5   Balance          10000 non-null  float64\n",
            " 6   NumOfProducts    10000 non-null  int64  \n",
            " 7   HasCrCard        10000 non-null  int64  \n",
            " 8   IsActiveMember   10000 non-null  int64  \n",
            " 9   EstimatedSalary  10000 non-null  float64\n",
            " 10  Exited           10000 non-null  int64  \n",
            "dtypes: float64(2), int64(9)\n",
            "memory usage: 859.5 KB\n"
          ]
        }
      ],
      "source": [
        "data.info()"
      ]
    },
    {
      "cell_type": "code",
      "execution_count": null,
      "metadata": {
        "id": "aqZEZRsVbtvr"
      },
      "outputs": [],
      "source": [
        "# Division de dataset en entrenamiento y prueba\n",
        "train_data, test_data = train_test_split(data, test_size=0.2, random_state=42)"
      ]
    },
    {
      "cell_type": "code",
      "execution_count": null,
      "metadata": {
        "colab": {
          "base_uri": "https://localhost:8080/"
        },
        "id": "l3TfYZLqb2LQ",
        "outputId": "720ff096-8f98-4f41-b602-58df01392e0b"
      },
      "outputs": [
        {
          "output_type": "stream",
          "name": "stdout",
          "text": [
            "      CreditScore  Geography  Gender  Age  Tenure    Balance  NumOfProducts  \\\n",
            "9254          686          0       1   32       6       0.00              2   \n",
            "1561          632          1       1   42       4  119624.60              2   \n",
            "1670          559          2       1   24       3  114739.92              1   \n",
            "6087          561          0       0   27       9  135637.00              1   \n",
            "6669          517          0       1   56       9  142147.32              1   \n",
            "...           ...        ...     ...  ...     ...        ...            ...   \n",
            "5734          768          0       1   54       8   69712.74              1   \n",
            "5191          682          0       0   58       1       0.00              1   \n",
            "5390          735          0       0   38       1       0.00              3   \n",
            "860           667          0       1   43       8  190227.46              1   \n",
            "7270          697          1       1   51       1  147910.30              1   \n",
            "\n",
            "      HasCrCard  IsActiveMember  EstimatedSalary  Exited  \n",
            "9254          1               1        179093.26       0  \n",
            "1561          1               1        195978.86       0  \n",
            "1670          1               0         85891.02       1  \n",
            "6087          1               0        153080.40       1  \n",
            "6669          0               0         39488.04       1  \n",
            "...         ...             ...              ...     ...  \n",
            "5734          1               1         69381.05       0  \n",
            "5191          1               1           706.50       0  \n",
            "5390          0               0         92220.12       1  \n",
            "860           1               0         97508.04       1  \n",
            "7270          1               1         53581.14       0  \n",
            "\n",
            "[8000 rows x 11 columns]\n"
          ]
        }
      ],
      "source": [
        "print(train_data)"
      ]
    },
    {
      "cell_type": "code",
      "execution_count": null,
      "metadata": {
        "colab": {
          "base_uri": "https://localhost:8080/"
        },
        "id": "6qCgV878b-Fj",
        "outputId": "55651403-6923-4d62-b5e1-046ecfb4e6df"
      },
      "outputs": [
        {
          "output_type": "stream",
          "name": "stdout",
          "text": [
            "      CreditScore  Geography  Gender  Age  Tenure    Balance  NumOfProducts  \\\n",
            "6252          596          1       1   32       3   96709.07              2   \n",
            "4684          623          0       1   43       1       0.00              2   \n",
            "1731          601          2       0   44       4       0.00              2   \n",
            "4742          506          1       1   59       8  119152.10              2   \n",
            "4521          560          2       0   27       7  124995.98              1   \n",
            "...           ...        ...     ...  ...     ...        ...            ...   \n",
            "6412          602          1       0   53       5   98268.84              1   \n",
            "8285          609          0       1   25      10       0.00              1   \n",
            "7853          730          0       0   47       7       0.00              1   \n",
            "1095          692          0       1   29       4       0.00              1   \n",
            "6929          628          1       1   39       1  115341.19              1   \n",
            "\n",
            "      HasCrCard  IsActiveMember  EstimatedSalary  Exited  \n",
            "6252          0               0         41788.37       0  \n",
            "4684          1               1        146379.30       0  \n",
            "1731          1               0         58561.31       0  \n",
            "4742          1               1        170679.74       0  \n",
            "4521          1               1        114669.79       0  \n",
            "...         ...             ...              ...     ...  \n",
            "6412          0               1         45038.29       1  \n",
            "8285          0               1        109895.16       0  \n",
            "7853          1               0         33373.26       1  \n",
            "1095          1               0         76755.99       1  \n",
            "6929          1               1        107674.30       1  \n",
            "\n",
            "[2000 rows x 11 columns]\n"
          ]
        }
      ],
      "source": [
        "print(test_data)"
      ]
    },
    {
      "cell_type": "code",
      "execution_count": null,
      "metadata": {
        "colab": {
          "base_uri": "https://localhost:8080/"
        },
        "id": "Aka-O-racCDn",
        "outputId": "447b62a8-5dce-4a96-9775-27752f049ca7"
      },
      "outputs": [
        {
          "output_type": "stream",
          "name": "stdout",
          "text": [
            "<class 'pandas.core.frame.DataFrame'>\n",
            "Int64Index: 8000 entries, 9254 to 7270\n",
            "Data columns (total 11 columns):\n",
            " #   Column           Non-Null Count  Dtype  \n",
            "---  ------           --------------  -----  \n",
            " 0   CreditScore      8000 non-null   int64  \n",
            " 1   Geography        8000 non-null   int64  \n",
            " 2   Gender           8000 non-null   int64  \n",
            " 3   Age              8000 non-null   int64  \n",
            " 4   Tenure           8000 non-null   int64  \n",
            " 5   Balance          8000 non-null   float64\n",
            " 6   NumOfProducts    8000 non-null   int64  \n",
            " 7   HasCrCard        8000 non-null   int64  \n",
            " 8   IsActiveMember   8000 non-null   int64  \n",
            " 9   EstimatedSalary  8000 non-null   float64\n",
            " 10  Exited           8000 non-null   int64  \n",
            "dtypes: float64(2), int64(9)\n",
            "memory usage: 750.0 KB\n"
          ]
        }
      ],
      "source": [
        "train_data.info()"
      ]
    },
    {
      "cell_type": "code",
      "execution_count": null,
      "metadata": {
        "colab": {
          "base_uri": "https://localhost:8080/"
        },
        "id": "Md89vT7YcFgr",
        "outputId": "48118712-50c8-4d28-ac4f-53e5136170b6"
      },
      "outputs": [
        {
          "output_type": "stream",
          "name": "stdout",
          "text": [
            "<class 'pandas.core.frame.DataFrame'>\n",
            "Int64Index: 2000 entries, 6252 to 6929\n",
            "Data columns (total 11 columns):\n",
            " #   Column           Non-Null Count  Dtype  \n",
            "---  ------           --------------  -----  \n",
            " 0   CreditScore      2000 non-null   int64  \n",
            " 1   Geography        2000 non-null   int64  \n",
            " 2   Gender           2000 non-null   int64  \n",
            " 3   Age              2000 non-null   int64  \n",
            " 4   Tenure           2000 non-null   int64  \n",
            " 5   Balance          2000 non-null   float64\n",
            " 6   NumOfProducts    2000 non-null   int64  \n",
            " 7   HasCrCard        2000 non-null   int64  \n",
            " 8   IsActiveMember   2000 non-null   int64  \n",
            " 9   EstimatedSalary  2000 non-null   float64\n",
            " 10  Exited           2000 non-null   int64  \n",
            "dtypes: float64(2), int64(9)\n",
            "memory usage: 187.5 KB\n"
          ]
        }
      ],
      "source": [
        "test_data.info()"
      ]
    },
    {
      "cell_type": "code",
      "execution_count": null,
      "metadata": {
        "id": "eDzcIEGhcG-9"
      },
      "outputs": [],
      "source": [
        "train_data.to_csv(\"train.csv\", index=False)"
      ]
    },
    {
      "cell_type": "code",
      "execution_count": null,
      "metadata": {
        "id": "otTXytTncKkK"
      },
      "outputs": [],
      "source": [
        "test_data.to_csv(\"test.csv\", index=False)"
      ]
    },
    {
      "cell_type": "code",
      "execution_count": null,
      "metadata": {
        "id": "hXUAby4kcOA1"
      },
      "outputs": [],
      "source": [
        "#Carga de dataset\n",
        "data = pd.read_csv('/content/train.csv')"
      ]
    },
    {
      "cell_type": "code",
      "execution_count": null,
      "metadata": {
        "colab": {
          "base_uri": "https://localhost:8080/"
        },
        "id": "hVj41oeEfIU9",
        "outputId": "c80c3ce0-78cd-4797-da95-728e53ed2685"
      },
      "outputs": [
        {
          "output_type": "stream",
          "name": "stdout",
          "text": [
            "      CreditScore  Geography  Gender  Age  Tenure    Balance  NumOfProducts  \\\n",
            "0             686          0       1   32       6       0.00              2   \n",
            "1             632          1       1   42       4  119624.60              2   \n",
            "2             559          2       1   24       3  114739.92              1   \n",
            "3             561          0       0   27       9  135637.00              1   \n",
            "4             517          0       1   56       9  142147.32              1   \n",
            "...           ...        ...     ...  ...     ...        ...            ...   \n",
            "7995          768          0       1   54       8   69712.74              1   \n",
            "7996          682          0       0   58       1       0.00              1   \n",
            "7997          735          0       0   38       1       0.00              3   \n",
            "7998          667          0       1   43       8  190227.46              1   \n",
            "7999          697          1       1   51       1  147910.30              1   \n",
            "\n",
            "      HasCrCard  IsActiveMember  EstimatedSalary  Exited  \n",
            "0             1               1        179093.26       0  \n",
            "1             1               1        195978.86       0  \n",
            "2             1               0         85891.02       1  \n",
            "3             1               0        153080.40       1  \n",
            "4             0               0         39488.04       1  \n",
            "...         ...             ...              ...     ...  \n",
            "7995          1               1         69381.05       0  \n",
            "7996          1               1           706.50       0  \n",
            "7997          0               0         92220.12       1  \n",
            "7998          1               0         97508.04       1  \n",
            "7999          1               1         53581.14       0  \n",
            "\n",
            "[8000 rows x 11 columns]\n"
          ]
        }
      ],
      "source": [
        "print(data)"
      ]
    },
    {
      "cell_type": "code",
      "execution_count": null,
      "metadata": {
        "id": "HuV8mvxLcR5b"
      },
      "outputs": [],
      "source": [
        "X = data.iloc[:, :10]\n",
        "y = data.iloc[:, 10]\n",
        "m = y.size"
      ]
    },
    {
      "cell_type": "code",
      "execution_count": null,
      "metadata": {
        "colab": {
          "base_uri": "https://localhost:8080/"
        },
        "id": "96wj6J7ocUo7",
        "outputId": "ae7de164-3c82-44a7-f768-514d2fc11b3f"
      },
      "outputs": [
        {
          "output_type": "stream",
          "name": "stdout",
          "text": [
            "      CreditScore  Geography  Gender  Age  Tenure    Balance  NumOfProducts  \\\n",
            "0             686          0       1   32       6       0.00              2   \n",
            "1             632          1       1   42       4  119624.60              2   \n",
            "2             559          2       1   24       3  114739.92              1   \n",
            "3             561          0       0   27       9  135637.00              1   \n",
            "4             517          0       1   56       9  142147.32              1   \n",
            "...           ...        ...     ...  ...     ...        ...            ...   \n",
            "7995          768          0       1   54       8   69712.74              1   \n",
            "7996          682          0       0   58       1       0.00              1   \n",
            "7997          735          0       0   38       1       0.00              3   \n",
            "7998          667          0       1   43       8  190227.46              1   \n",
            "7999          697          1       1   51       1  147910.30              1   \n",
            "\n",
            "      HasCrCard  IsActiveMember  EstimatedSalary  \n",
            "0             1               1        179093.26  \n",
            "1             1               1        195978.86  \n",
            "2             1               0         85891.02  \n",
            "3             1               0        153080.40  \n",
            "4             0               0         39488.04  \n",
            "...         ...             ...              ...  \n",
            "7995          1               1         69381.05  \n",
            "7996          1               1           706.50  \n",
            "7997          0               0         92220.12  \n",
            "7998          1               0         97508.04  \n",
            "7999          1               1         53581.14  \n",
            "\n",
            "[8000 rows x 10 columns]\n",
            "*************************\n",
            "0       0\n",
            "1       0\n",
            "2       1\n",
            "3       1\n",
            "4       1\n",
            "       ..\n",
            "7995    0\n",
            "7996    0\n",
            "7997    1\n",
            "7998    1\n",
            "7999    0\n",
            "Name: Exited, Length: 8000, dtype: int64\n"
          ]
        }
      ],
      "source": [
        "print(X)\n",
        "print('*'*25)\n",
        "print(y)"
      ]
    },
    {
      "cell_type": "code",
      "execution_count": null,
      "metadata": {
        "colab": {
          "base_uri": "https://localhost:8080/"
        },
        "id": "ykV-r6x4pnqx",
        "outputId": "39399b4f-ba28-48c3-ed94-3ab683596bcf"
      },
      "outputs": [
        {
          "output_type": "stream",
          "name": "stdout",
          "text": [
            "<class 'pandas.core.frame.DataFrame'>\n",
            "RangeIndex: 8000 entries, 0 to 7999\n",
            "Data columns (total 11 columns):\n",
            " #   Column           Non-Null Count  Dtype  \n",
            "---  ------           --------------  -----  \n",
            " 0   CreditScore      8000 non-null   int64  \n",
            " 1   Geography        8000 non-null   int64  \n",
            " 2   Gender           8000 non-null   int64  \n",
            " 3   Age              8000 non-null   int64  \n",
            " 4   Tenure           8000 non-null   int64  \n",
            " 5   Balance          8000 non-null   float64\n",
            " 6   NumOfProducts    8000 non-null   int64  \n",
            " 7   HasCrCard        8000 non-null   int64  \n",
            " 8   IsActiveMember   8000 non-null   int64  \n",
            " 9   EstimatedSalary  8000 non-null   float64\n",
            " 10  Exited           8000 non-null   int64  \n",
            "dtypes: float64(2), int64(9)\n",
            "memory usage: 687.6 KB\n"
          ]
        }
      ],
      "source": [
        "data.info()"
      ]
    },
    {
      "cell_type": "code",
      "execution_count": null,
      "metadata": {
        "id": "CDG5hG29cYkc"
      },
      "outputs": [],
      "source": [
        "def sigmoid(z):\n",
        "    # Calcula la sigmoide de una entrada z\n",
        "    # Convierte la entrada a un arreglo numpy\n",
        "    z = np.array(z)\n",
        "\n",
        "    # Limita los valores de z para evitar overflow\n",
        "    z = np.clip(z, -500, 500)\n",
        "\n",
        "    g = 1 / (1 + np.exp(-z))\n",
        "\n",
        "    return g"
      ]
    },
    {
      "cell_type": "code",
      "execution_count": null,
      "metadata": {
        "colab": {
          "base_uri": "https://localhost:8080/"
        },
        "id": "qFFcepVNkikm",
        "outputId": "502bfebe-90e7-4509-c3fe-16d8c96db797"
      },
      "outputs": [
        {
          "output_type": "stream",
          "name": "stdout",
          "text": [
            "g( 0 ) =  0.5\n"
          ]
        }
      ],
      "source": [
        "# Prueba la implementacion de la funcion sigmoid\n",
        "z = 0\n",
        "g = sigmoid(z)\n",
        "\n",
        "print('g(', z, ') = ', g)"
      ]
    },
    {
      "cell_type": "code",
      "source": [
        "def  featureNormalize(X):\n",
        "    # Se crea una copia del conjunto de datos X para evitar modificar los datos originales.\n",
        "    X_norm = X.copy()\n",
        "    # se crea un arreglo de 0 para almacenar la media y desviacion estandar\n",
        "    mu = np.zeros(X.shape[1])\n",
        "    sigma = np.zeros(X.shape[1])\n",
        "\n",
        "    # media\n",
        "    mu = np.mean(X, axis = 0)\n",
        "    # desviacion estandar\n",
        "    sigma = np.std(X, axis = 0)\n",
        "    X_norm = (X - mu) / sigma\n",
        "\n",
        "    return X_norm, mu, sigma"
      ],
      "metadata": {
        "id": "iZTfAttKyypr"
      },
      "execution_count": null,
      "outputs": []
    },
    {
      "cell_type": "code",
      "source": [
        "# llama featureNormalize con los datos cargados\n",
        "X_norm, mu, sigma = featureNormalize(X)\n",
        "\n",
        "print(X)\n",
        "print('*'*20)\n",
        "print('Media calculada:', mu)\n",
        "print('*'*20)\n",
        "print('Desviación estandar calculada:', sigma)\n",
        "print('*'*20)\n",
        "print(X_norm)"
      ],
      "metadata": {
        "colab": {
          "base_uri": "https://localhost:8080/"
        },
        "id": "gPx4IrL2yy-c",
        "outputId": "fe6b7508-7723-41f2-89d8-14e5075a4b9a"
      },
      "execution_count": null,
      "outputs": [
        {
          "output_type": "stream",
          "name": "stdout",
          "text": [
            "      CreditScore  Geography  Gender  Age  Tenure    Balance  NumOfProducts  \\\n",
            "0             686          0       1   32       6       0.00              2   \n",
            "1             632          1       1   42       4  119624.60              2   \n",
            "2             559          2       1   24       3  114739.92              1   \n",
            "3             561          0       0   27       9  135637.00              1   \n",
            "4             517          0       1   56       9  142147.32              1   \n",
            "...           ...        ...     ...  ...     ...        ...            ...   \n",
            "7995          768          0       1   54       8   69712.74              1   \n",
            "7996          682          0       0   58       1       0.00              1   \n",
            "7997          735          0       0   38       1       0.00              3   \n",
            "7998          667          0       1   43       8  190227.46              1   \n",
            "7999          697          1       1   51       1  147910.30              1   \n",
            "\n",
            "      HasCrCard  IsActiveMember  EstimatedSalary  \n",
            "0             1               1        179093.26  \n",
            "1             1               1        195978.86  \n",
            "2             1               0         85891.02  \n",
            "3             1               0        153080.40  \n",
            "4             0               0         39488.04  \n",
            "...         ...             ...              ...  \n",
            "7995          1               1         69381.05  \n",
            "7996          1               1           706.50  \n",
            "7997          0               0         92220.12  \n",
            "7998          1               0         97508.04  \n",
            "7999          1               1         53581.14  \n",
            "\n",
            "[8000 rows x 10 columns]\n",
            "********************\n",
            "Media calculada: CreditScore           651.647625\n",
            "Geography               0.750125\n",
            "Gender                  0.545250\n",
            "Age                    38.897750\n",
            "Tenure                  5.003875\n",
            "Balance             76102.139645\n",
            "NumOfProducts           1.531375\n",
            "HasCrCard               0.703500\n",
            "IsActiveMember          0.512750\n",
            "EstimatedSalary    100431.289764\n",
            "dtype: float64\n",
            "********************\n",
            "Desviación estandar calculada: CreditScore           96.360177\n",
            "Geography              0.828364\n",
            "Gender                 0.497948\n",
            "Age                   10.518296\n",
            "Tenure                 2.881642\n",
            "Balance            62457.101822\n",
            "NumOfProducts          0.579669\n",
            "HasCrCard              0.456714\n",
            "IsActiveMember         0.499837\n",
            "EstimatedSalary    57515.325387\n",
            "dtype: float64\n",
            "********************\n",
            "      CreditScore  Geography    Gender       Age    Tenure   Balance  \\\n",
            "0        0.356500  -0.905550  0.913248 -0.655786  0.345680 -1.218471   \n",
            "1       -0.203898   0.301649  0.913248  0.294938 -0.348369  0.696838   \n",
            "2       -0.961472   1.508847  0.913248 -1.416365 -0.695393  0.618629   \n",
            "3       -0.940717  -0.905550 -1.094993 -1.131148  1.386753  0.953212   \n",
            "4       -1.397337  -0.905550  0.913248  1.625953  1.386753  1.057449   \n",
            "...           ...        ...       ...       ...       ...       ...   \n",
            "7995     1.207474  -0.905550  0.913248  1.435808  1.039728 -0.102301   \n",
            "7996     0.314989  -0.905550 -1.094993  1.816097 -1.389442 -1.218471   \n",
            "7997     0.865009  -0.905550 -1.094993 -0.085351 -1.389442 -1.218471   \n",
            "7998     0.159323  -0.905550  0.913248  0.390011  1.039728  1.827259   \n",
            "7999     0.470655   0.301649  0.913248  1.150590 -1.389442  1.149720   \n",
            "\n",
            "      NumOfProducts  HasCrCard  IsActiveMember  EstimatedSalary  \n",
            "0          0.808436   0.649203        0.974817         1.367670  \n",
            "1          0.808436   0.649203        0.974817         1.661254  \n",
            "2         -0.916688   0.649203       -1.025834        -0.252807  \n",
            "3         -0.916688   0.649203       -1.025834         0.915393  \n",
            "4         -0.916688  -1.540351       -1.025834        -1.059600  \n",
            "...             ...        ...             ...              ...  \n",
            "7995      -0.916688   0.649203        0.974817        -0.539860  \n",
            "7996      -0.916688   0.649203        0.974817        -1.733882  \n",
            "7997       2.533560  -1.540351       -1.025834        -0.142765  \n",
            "7998      -0.916688   0.649203       -1.025834        -0.050826  \n",
            "7999      -0.916688   0.649203        0.974817        -0.814568  \n",
            "\n",
            "[8000 rows x 10 columns]\n"
          ]
        }
      ]
    },
    {
      "cell_type": "code",
      "execution_count": null,
      "metadata": {
        "colab": {
          "base_uri": "https://localhost:8080/"
        },
        "id": "UY1-Z3cbca-0",
        "outputId": "e075e86b-e538-461e-edfc-20180d81ffb7"
      },
      "outputs": [
        {
          "output_type": "stream",
          "name": "stdout",
          "text": [
            "8000\n",
            "10\n",
            "[ 1.       -0.857695 -0.90555   0.913248  0.199866 -0.348369  0.706747\n",
            " -0.916688  0.649203 -1.025834  1.09047 ]\n"
          ]
        }
      ],
      "source": [
        "# Configurar la matriz adecuadamente, y agregar una columna de unos que corresponde al termino de intercepción.\n",
        "m, n = X.shape\n",
        "print(m)\n",
        "print(n)\n",
        "# Agrega el termino de intercepción a A\n",
        "X = np.concatenate([np.ones((m, 1)), X_norm], axis=1)\n",
        "\n",
        "print(X[5])"
      ]
    },
    {
      "cell_type": "code",
      "execution_count": null,
      "metadata": {
        "colab": {
          "base_uri": "https://localhost:8080/"
        },
        "id": "XDJp2OYCcdTl",
        "outputId": "da4672bb-dbb1-4430-e335-f23642ce4b99"
      },
      "outputs": [
        {
          "output_type": "stream",
          "name": "stdout",
          "text": [
            "[[ 1.        0.3565   -0.90555  ...  0.649203  0.974817  1.36767 ]\n",
            " [ 1.       -0.203898  0.301649 ...  0.649203  0.974817  1.661254]\n",
            " [ 1.       -0.961472  1.508847 ...  0.649203 -1.025834 -0.252807]\n",
            " ...\n",
            " [ 1.        0.865009 -0.90555  ... -1.540351 -1.025834 -0.142765]\n",
            " [ 1.        0.159323 -0.90555  ...  0.649203 -1.025834 -0.050826]\n",
            " [ 1.        0.470655  0.301649 ...  0.649203  0.974817 -0.814568]]\n"
          ]
        }
      ],
      "source": [
        "print(X)"
      ]
    },
    {
      "cell_type": "code",
      "execution_count": null,
      "metadata": {
        "id": "DNRZ1Xn2cfHy"
      },
      "outputs": [],
      "source": [
        "def calcularCosto(theta, X, y):\n",
        "    # Inicializar algunos valores utiles\n",
        "    m = y.size  # numero de ejemplos de entrenamiento\n",
        "    #epsilon = 1e-8\n",
        "\n",
        "    J = 0\n",
        "    h = sigmoid(X.dot(theta.T))\n",
        "\n",
        "    epsilon = 1e-10  # Un valor pequeño para evitar divisiones por cero\n",
        "    J = (1 / m) * np.sum(-y.dot(np.log(h + epsilon)) - (1 - y).dot(np.log(1 - h + epsilon)))\n",
        "\n",
        "    # J = (1 / m) * np.sum(-y.dot(np.log(h)) - (1 - y).dot(np.log(1 - h)))\n",
        "\n",
        "    return J"
      ]
    },
    {
      "cell_type": "code",
      "execution_count": null,
      "metadata": {
        "id": "p0WEMERTchvl"
      },
      "outputs": [],
      "source": [
        "def descensoGradiente(theta, X, y, alpha, num_iters):\n",
        "    # Inicializa algunos valores\n",
        "    m = y.shape[0] # numero de ejemplos de entrenamiento\n",
        "\n",
        "    # realiza una copia de theta, el cual será acutalizada por el descenso por el gradiente\n",
        "    theta = theta.copy()\n",
        "    J_history = []\n",
        "\n",
        "    for i in range(num_iters):\n",
        "        h = sigmoid(X.dot(theta.T))\n",
        "        theta = theta - (alpha / m) * (h - y).dot(X)\n",
        "\n",
        "        J_history.append(calcularCosto(theta, X, y))\n",
        "    return theta, J_history"
      ]
    },
    {
      "cell_type": "code",
      "execution_count": null,
      "metadata": {
        "colab": {
          "base_uri": "https://localhost:8080/"
        },
        "id": "-tfQ3ZUVvm5r",
        "outputId": "bd4c9a50-f16c-4a82-8d17-21b8ce816ad8"
      },
      "outputs": [
        {
          "output_type": "stream",
          "name": "stdout",
          "text": [
            "      CreditScore  Geography  Gender  Age  Tenure    Balance  NumOfProducts  \\\n",
            "0             596          1       1   32       3   96709.07              2   \n",
            "1             623          0       1   43       1       0.00              2   \n",
            "2             601          2       0   44       4       0.00              2   \n",
            "3             506          1       1   59       8  119152.10              2   \n",
            "4             560          2       0   27       7  124995.98              1   \n",
            "...           ...        ...     ...  ...     ...        ...            ...   \n",
            "1995          602          1       0   53       5   98268.84              1   \n",
            "1996          609          0       1   25      10       0.00              1   \n",
            "1997          730          0       0   47       7       0.00              1   \n",
            "1998          692          0       1   29       4       0.00              1   \n",
            "1999          628          1       1   39       1  115341.19              1   \n",
            "\n",
            "      HasCrCard  IsActiveMember  EstimatedSalary  Exited  \n",
            "0             0               0         41788.37       0  \n",
            "1             1               1        146379.30       0  \n",
            "2             1               0         58561.31       0  \n",
            "3             1               1        170679.74       0  \n",
            "4             1               1        114669.79       0  \n",
            "...         ...             ...              ...     ...  \n",
            "1995          0               1         45038.29       1  \n",
            "1996          0               1        109895.16       0  \n",
            "1997          1               0         33373.26       1  \n",
            "1998          1               0         76755.99       1  \n",
            "1999          1               1        107674.30       1  \n",
            "\n",
            "[2000 rows x 11 columns]\n"
          ]
        }
      ],
      "source": [
        "data = pd.read_csv('/content/test.csv')\n",
        "print(data)"
      ]
    },
    {
      "cell_type": "code",
      "execution_count": null,
      "metadata": {
        "colab": {
          "base_uri": "https://localhost:8080/"
        },
        "id": "WvyALuMecmRF",
        "outputId": "f86681b4-df22-472d-ef27-2ef047bc3c31"
      },
      "outputs": [
        {
          "output_type": "stream",
          "name": "stdout",
          "text": [
            "[596.0, 1.0, 1.0, 32.0, 3.0, 96709.07, 2.0, 0.0, 0.0, 41788.37, 0.0]\n"
          ]
        }
      ],
      "source": [
        "fila_deseada = 0\n",
        "\n",
        "if fila_deseada < len(data):\n",
        "  fila_completa = data.iloc[fila_deseada].tolist()\n",
        "  print(fila_completa)\n",
        "else:\n",
        "  print(\"La fila no existe\")"
      ]
    },
    {
      "cell_type": "code",
      "execution_count": null,
      "metadata": {
        "colab": {
          "base_uri": "https://localhost:8080/",
          "height": 503
        },
        "id": "F565FrXpcwoW",
        "outputId": "ab6c15cf-9e7b-4821-ec34-eacf3851e572"
      },
      "outputs": [
        {
          "output_type": "stream",
          "name": "stdout",
          "text": [
            "theta calculado por el descenso por el gradiente: [-1.198818 -0.046457  0.060457 -0.180182  0.502717 -0.023204  0.191434\n",
            " -0.04171  -0.004472 -0.312156  0.015294]\n",
            "1.0\n"
          ]
        },
        {
          "output_type": "display_data",
          "data": {
            "text/plain": [
              "<Figure size 640x480 with 1 Axes>"
            ],
            "image/png": "[encoded data removed]"
          },
          "metadata": {}
        }
      ],
      "source": [
        "# Elegir algun valor para alpha (probar varias alternativas)\n",
        "alpha = 0.001 #0.001\n",
        "num_iters = 10000 # 100\n",
        "\n",
        "# inicializa theta y ejecuta el descenso por el gradiente\n",
        "theta = np.zeros(11)\n",
        "theta, J_history = descensoGradiente(theta, X, y, alpha, num_iters)\n",
        "\n",
        "# Grafica la convergencia del costo\n",
        "pyplot.plot(np.arange(len(J_history)), J_history, lw=2)\n",
        "pyplot.xlabel('Numero de iteraciones')\n",
        "pyplot.ylabel('Costo J')\n",
        "\n",
        "# Muestra los resultados del descenso por el gradiente\n",
        "print('theta calculado por el descenso por el gradiente: {:s}'.format(str(theta)))\n",
        "\n",
        "# verificar si ingresa o no a la universidad\n",
        "X_array = [1, 596.0, 1.0, 1.0, 32.0, 3.0, 96709.07, 2.0, 0.0, 0.0, 41788.37]\n",
        "aprueba = sigmoid(np.dot(X_array, theta))   # Se debe cambiar esto\n",
        "\n",
        "print(aprueba)\n",
        "\n",
        "# print(f\" (usando el descenso por el gradiente):{aprueba}\")\n"
      ]
    }
  ],
  "metadata": {
    "colab": {
      "provenance": []
    },
    "kernelspec": {
      "display_name": "Python 3",
      "name": "python3"
    },
    "language_info": {
      "name": "python"
    }
  },
  "nbformat": 4,
  "nbformat_minor": 0
}