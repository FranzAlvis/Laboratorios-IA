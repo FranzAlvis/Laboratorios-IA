{
  "nbformat": 4,
  "nbformat_minor": 0,
  "metadata": {
    "colab": {
      "provenance": []
    },
    "kernelspec": {
      "name": "python3",
      "display_name": "Python 3"
    },
    "language_info": {
      "name": "python"
    }
  },
  "cells": [
    {
      "cell_type": "code",
      "execution_count": null,
      "metadata": {
        "id": "Z6ncHCRgbo3u"
      },
      "outputs": [],
      "source": [
        "import torch\n",
        "import torch.nn as nn\n",
        "import torch.optim as optim\n",
        "import numpy as np\n",
        "import pandas as pd\n",
        "# se utiliza para codificar variables categóricas en variables numéricas\n",
        "from sklearn.preprocessing import LabelEncoder"
      ]
    },
    {
      "cell_type": "code",
      "source": [
        "# Cargar los datos desde el archivo CSV\n",
        "data = pd.read_csv('/content/loan_approval_dataset.csv', header=0, skipinitialspace=True)"
      ],
      "metadata": {
        "id": "szUFx5JGcNUV"
      },
      "execution_count": null,
      "outputs": []
    },
    {
      "cell_type": "code",
      "source": [
        "data.info()"
      ],
      "metadata": {
        "colab": {
          "base_uri": "https://localhost:8080/"
        },
        "id": "m1ja-1RRccy5",
        "outputId": "37023c37-cc5c-45e9-a623-68f67f088384"
      },
      "execution_count": null,
      "outputs": [
        {
          "output_type": "stream",
          "name": "stdout",
          "text": [
            "<class 'pandas.core.frame.DataFrame'>\n",
            "RangeIndex: 4269 entries, 0 to 4268\n",
            "Data columns (total 13 columns):\n",
            " #   Column                    Non-Null Count  Dtype \n",
            "---  ------                    --------------  ----- \n",
            " 0   loan_id                   4269 non-null   int64 \n",
            " 1   no_of_dependents          4269 non-null   int64 \n",
            " 2   education                 4269 non-null   object\n",
            " 3   self_employed             4269 non-null   object\n",
            " 4   income_annum              4269 non-null   int64 \n",
            " 5   loan_amount               4269 non-null   int64 \n",
            " 6   loan_term                 4269 non-null   int64 \n",
            " 7   cibil_score               4269 non-null   int64 \n",
            " 8   residential_assets_value  4269 non-null   int64 \n",
            " 9   commercial_assets_value   4269 non-null   int64 \n",
            " 10  luxury_assets_value       4269 non-null   int64 \n",
            " 11  bank_asset_value          4269 non-null   int64 \n",
            " 12  loan_status               4269 non-null   object\n",
            "dtypes: int64(10), object(3)\n",
            "memory usage: 433.7+ KB\n"
          ]
        }
      ]
    },
    {
      "cell_type": "code",
      "source": [
        "# Eliminar columnas irrelevantes para la regresion\n",
        "columna_eliminar = ['loan_id', 'no_of_dependents']\n",
        "data.drop(columna_eliminar, axis=1, inplace=True)\n",
        "\n",
        "# Muestra el DataFrame resultante\n",
        "data.info()"
      ],
      "metadata": {
        "colab": {
          "base_uri": "https://localhost:8080/"
        },
        "id": "DjoRS-VYcYv7",
        "outputId": "96f04975-f936-4348-c989-c9d78ae4130c"
      },
      "execution_count": null,
      "outputs": [
        {
          "output_type": "stream",
          "name": "stdout",
          "text": [
            "<class 'pandas.core.frame.DataFrame'>\n",
            "RangeIndex: 4269 entries, 0 to 4268\n",
            "Data columns (total 11 columns):\n",
            " #   Column                    Non-Null Count  Dtype \n",
            "---  ------                    --------------  ----- \n",
            " 0   education                 4269 non-null   object\n",
            " 1   self_employed             4269 non-null   object\n",
            " 2   income_annum              4269 non-null   int64 \n",
            " 3   loan_amount               4269 non-null   int64 \n",
            " 4   loan_term                 4269 non-null   int64 \n",
            " 5   cibil_score               4269 non-null   int64 \n",
            " 6   residential_assets_value  4269 non-null   int64 \n",
            " 7   commercial_assets_value   4269 non-null   int64 \n",
            " 8   luxury_assets_value       4269 non-null   int64 \n",
            " 9   bank_asset_value          4269 non-null   int64 \n",
            " 10  loan_status               4269 non-null   object\n",
            "dtypes: int64(8), object(3)\n",
            "memory usage: 367.0+ KB\n"
          ]
        }
      ]
    },
    {
      "cell_type": "code",
      "source": [
        "columnas_categoricas = data.select_dtypes(include=['object']).columns\n",
        "\n",
        "#Procesamiento de frases o palabras\n",
        "for columna in columnas_categoricas:\n",
        "  # se crea una instancia (se utiliza para convetir categoricos a numericos)\n",
        "  le = LabelEncoder()\n",
        "  # cambia de categoricos a numericos unico\n",
        "  data[columna] = le.fit_transform(data[columna])"
      ],
      "metadata": {
        "id": "BCMo9rlBcaAR"
      },
      "execution_count": null,
      "outputs": []
    },
    {
      "cell_type": "code",
      "source": [
        "X = data.drop('loan_status', axis=1).values\n",
        "y = data['loan_status'].values\n",
        "\n",
        "# Convertir los datos en tensores de PyTorch\n",
        "X = torch.tensor(X, dtype=torch.float32)\n",
        "y = torch.tensor(y, dtype=torch.float32)"
      ],
      "metadata": {
        "id": "f5ZTplstcn_e"
      },
      "execution_count": null,
      "outputs": []
    },
    {
      "cell_type": "code",
      "source": [
        "# Definir el modelo del perceptrón\n",
        "class Perceptron(nn.Module):\n",
        "    def __init__(self, input_size):\n",
        "        super(Perceptron, self).__init__()\n",
        "        self.fc = nn.Linear(input_size, 1)\n",
        "\n",
        "    def forward(self, x):\n",
        "        x = torch.sigmoid(self.fc(x))\n",
        "        return x"
      ],
      "metadata": {
        "id": "bWftqLwHdLdp"
      },
      "execution_count": null,
      "outputs": []
    },
    {
      "cell_type": "code",
      "source": [
        "# Instanciar el modelo del perceptrón\n",
        "input_size = X.shape[1]\n",
        "model = Perceptron(input_size)\n",
        "\n",
        "# Definir la función de pérdida y el optimizador\n",
        "criterion = nn.MSELoss()\n",
        "optimizer = optim.SGD(model.parameters(), lr=0.01)"
      ],
      "metadata": {
        "id": "lFv_ghlndY8O"
      },
      "execution_count": null,
      "outputs": []
    },
    {
      "cell_type": "code",
      "source": [
        "# Entrenamiento del modelo\n",
        "num_epochs = 1000\n",
        "for epoch in range(num_epochs):\n",
        "    # Calcular las salidas del modelo\n",
        "    outputs = model(X)\n",
        "\n",
        "    # Calcular la pérdida\n",
        "    loss = criterion(outputs, y.view(-1, 1))\n",
        "\n",
        "    # Retropropagar y optimizar\n",
        "    optimizer.zero_grad()\n",
        "    loss.backward()\n",
        "    optimizer.step()\n",
        "\n",
        "    # Imprimir el progreso del entrenamiento\n",
        "    if (epoch+1) % 100 == 0:\n",
        "        print(f'Epoch [{epoch+1}/{num_epochs}], Loss: {loss.item():.4f}')"
      ],
      "metadata": {
        "colab": {
          "base_uri": "https://localhost:8080/"
        },
        "id": "n_tFilcVdy5y",
        "outputId": "3382d19b-77a1-40e1-fe0a-660aed215596"
      },
      "execution_count": null,
      "outputs": [
        {
          "output_type": "stream",
          "name": "stdout",
          "text": [
            "Epoch [100/1000], Loss: 0.3778\n",
            "Epoch [200/1000], Loss: 0.3778\n",
            "Epoch [300/1000], Loss: 0.3778\n",
            "Epoch [400/1000], Loss: 0.3778\n",
            "Epoch [500/1000], Loss: 0.3778\n",
            "Epoch [600/1000], Loss: 0.3778\n",
            "Epoch [700/1000], Loss: 0.3778\n",
            "Epoch [800/1000], Loss: 0.3778\n",
            "Epoch [900/1000], Loss: 0.3778\n",
            "Epoch [1000/1000], Loss: 0.3778\n"
          ]
        }
      ]
    },
    {
      "cell_type": "code",
      "source": [
        "fila_deseada = 0\n",
        "\n",
        "if fila_deseada < len(data):\n",
        "  fila_completa = data.iloc[fila_deseada].tolist()\n",
        "  print(fila_completa)\n",
        "else:\n",
        "  print(\"La fila no existe\")"
      ],
      "metadata": {
        "colab": {
          "base_uri": "https://localhost:8080/"
        },
        "id": "zhXerbyDd1nw",
        "outputId": "2acedfdf-f6b4-46ca-f2aa-5cdb4fb290d0"
      },
      "execution_count": null,
      "outputs": [
        {
          "output_type": "stream",
          "name": "stdout",
          "text": [
            "[0, 0, 9600000, 29900000, 12, 778, 2400000, 17600000, 22700000, 8000000, 0]\n"
          ]
        }
      ]
    },
    {
      "cell_type": "code",
      "source": [
        "X_input = torch.tensor([0, 0, 9600000, 29900000, 12, 778, 2400000, 17600000, 22700000, 8000000], dtype=torch.float32)\n",
        "\n",
        "# Calcular la media y la desviación estándar de las características en los datos de entrenamiento\n",
        "mean_train = X.mean(dim=0)\n",
        "std_train = X.std(dim=0)\n",
        "\n",
        "# Normalizar X_input utilizando la media y la desviación estándar de los datos de entrenamiento\n",
        "X_input_normalized = (X_input - mean_train) / std_train\n",
        "\n",
        "# Hacer la predicción con los datos normalizados\n",
        "model.eval()  # Activar el modo de evaluación\n",
        "with torch.no_grad():\n",
        "    y_pred = model(X_input_normalized)\n",
        "\n",
        "print(f'Predicción: {y_pred.item()}')"
      ],
      "metadata": {
        "colab": {
          "base_uri": "https://localhost:8080/"
        },
        "id": "mSVJrBvtd3Hb",
        "outputId": "821bc236-4056-4e2d-bb31-ec33668c470d"
      },
      "execution_count": null,
      "outputs": [
        {
          "output_type": "stream",
          "name": "stdout",
          "text": [
            "Predicción: 0.3215395510196686\n"
          ]
        }
      ]
    }
  ]
}