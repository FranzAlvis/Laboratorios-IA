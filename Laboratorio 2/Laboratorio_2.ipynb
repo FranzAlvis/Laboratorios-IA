{
  "nbformat": 4,
  "nbformat_minor": 0,
  "metadata": {
    "colab": {
      "provenance": []
    },
    "kernelspec": {
      "name": "python3",
      "display_name": "Python 3"
    },
    "language_info": {
      "name": "python"
    }
  },
  "cells": [
    {
      "cell_type": "markdown",
      "source": [
        "# Dataset\n",
        "El dataset asignado es un archivo CSV que contiene información sobre el consumo de tabaco en diferentes países a lo largo del tiempo. Las columnas del dataset son las siguientes:\n",
        "\n",
        "    País\n",
        "    Año\n",
        "    Cigarrillos_diarios\n",
        "    Porcentaje_Hombres\n",
        "    Porcentaje_Mujeres\n",
        "    Porcentaje_Total\n",
        "    Fumadores_Total\n",
        "    Fumadoras_Mujeres\n",
        "    Fumadores_Hombres\n",
        "\n",
        "Para estimar el número total de fumadores con distintas características, se utilizó la columna \"Fumadores_Total\", tambien los datos cuentas todos por igual, significa que ninguna de los datos se encuentra con N/A\n",
        "# Conclusión\n",
        "**m = 6204**\n",
        "\n",
        "entonces al utilizar el descenso por gradiente se tiene un resultado de **$733,233.2786.**\n",
        "\n",
        "Utilizando la ecuacion de la normal se tiene un resultado de **$733,520.**\n",
        "\n",
        "La estimación más cercana al valor real, en este caso, es la ecuación de la normal porque se acerca más al resultado esperado.\n",
        "\n",
        "*Cabe recalcar que el descenso por gradiente puede ser más efectivo, especialmente en problemas con conjuntos de datos grandes o modelos más complejos.*\n",
        "\n",
        "# Código de Dataset"
      ],
      "metadata": {
        "id": "BrAFuRJOEw7v"
      }
    },
    {
      "cell_type": "code",
      "execution_count": 40,
      "metadata": {
        "id": "Q5ZwysGaIq93"
      },
      "outputs": [],
      "source": [
        "# utilizado para manejos de directorios y rutas\n",
        "import os\n",
        "\n",
        "# Computacion vectorial y cientifica para python\n",
        "# Para realizar cálculos numéricos y operaciones vectoriales\n",
        "import numpy as np\n",
        "\n",
        "# Librerias para graficación (trazado de gráficos)\n",
        "from matplotlib import pyplot\n",
        "# Necesario para graficar superficies 3D\n",
        "from mpl_toolkits.mplot3d import Axes3D\n",
        "\n",
        "# Muestra las gráficas dentro del cuaderno\n",
        "%matplotlib inline"
      ]
    },
    {
      "cell_type": "code",
      "source": [
        "# importando pandas para el analisis de datos\n",
        "import pandas as pd\n",
        "# se utiliza para codificar variables categóricas en variables numéricas\n",
        "from sklearn.preprocessing import LabelEncoder\n",
        "\n",
        "#from datetime import datetime"
      ],
      "metadata": {
        "id": "UmLbcW0QJGCE"
      },
      "execution_count": 41,
      "outputs": []
    },
    {
      "cell_type": "code",
      "source": [
        "#Carga de dataset\n",
        "#Predecir el número total de fumadores\n",
        "data = pd.read_csv('/content/smoking.csv')"
      ],
      "metadata": {
        "id": "W6edkWwnJHk4"
      },
      "execution_count": 42,
      "outputs": []
    },
    {
      "cell_type": "code",
      "source": [
        "print(type(data))"
      ],
      "metadata": {
        "colab": {
          "base_uri": "https://localhost:8080/"
        },
        "id": "81SYZhx4JNeE",
        "outputId": "4cefe606-ed8b-42d1-9826-218a4268d610"
      },
      "execution_count": 43,
      "outputs": [
        {
          "output_type": "stream",
          "name": "stdout",
          "text": [
            "<class 'pandas.core.frame.DataFrame'>\n"
          ]
        }
      ]
    },
    {
      "cell_type": "code",
      "source": [
        "print(data)"
      ],
      "metadata": {
        "colab": {
          "base_uri": "https://localhost:8080/"
        },
        "id": "lwiIe5O7JPcn",
        "outputId": "ea6ece16-5cfb-47f8-b9de-48ceb0dfcaf6"
      },
      "execution_count": 44,
      "outputs": [
        {
          "output_type": "stream",
          "name": "stdout",
          "text": [
            "          Country  Year  Data.Daily cigarettes  Data.Percentage.Male  \\\n",
            "0     Afghanistan  1980               5.700000                  10.4   \n",
            "1     Afghanistan  1981               5.800000                  10.5   \n",
            "2     Afghanistan  1982               5.800000                  10.5   \n",
            "3     Afghanistan  1983               5.900000                  10.5   \n",
            "4     Afghanistan  1984               6.000000                  10.6   \n",
            "...           ...   ...                    ...                   ...   \n",
            "6199     Zimbabwe  2008              20.100000                  11.2   \n",
            "6200     Zimbabwe  2009              20.299999                  11.2   \n",
            "6201     Zimbabwe  2010              20.500000                  11.2   \n",
            "6202     Zimbabwe  2011              20.600000                  11.2   \n",
            "6203     Zimbabwe  2012              20.600000                  11.3   \n",
            "\n",
            "      Data.Percentage.Female  Data.Percentage.Total  Data.Smokers.Total  \\\n",
            "0                  18.400000                    2.4              733520   \n",
            "1                  18.400000                    2.3              720102   \n",
            "2                  18.500000                    2.3              700415   \n",
            "3                  18.600000                    2.3              676984   \n",
            "4                  18.600000                    2.3              653812   \n",
            "...                      ...                    ...                 ...   \n",
            "6199               21.000000                    2.0              839607   \n",
            "6200               21.000000                    1.9              845442   \n",
            "6201               21.000000                    1.9              860929   \n",
            "6202               21.100000                    1.9              888279   \n",
            "6203               21.299999                    1.9              929016   \n",
            "\n",
            "      Data.Smokers.Female  Data.Smokers.Male  \n",
            "0                   81707             651813  \n",
            "1                   79276             640826  \n",
            "2                   76061             624355  \n",
            "3                   72411             604572  \n",
            "4                   68908             584905  \n",
            "...                   ...                ...  \n",
            "6199                75975             763631  \n",
            "6200                75216             770225  \n",
            "6201                75113             785817  \n",
            "6202                75791             812488  \n",
            "6203                78120             850896  \n",
            "\n",
            "[6204 rows x 9 columns]\n"
          ]
        }
      ]
    },
    {
      "cell_type": "code",
      "source": [
        "data.info()"
      ],
      "metadata": {
        "colab": {
          "base_uri": "https://localhost:8080/"
        },
        "id": "3X3P_bcDJSMg",
        "outputId": "83a2b92c-3410-4759-d4ff-dcd6d808e44e"
      },
      "execution_count": 45,
      "outputs": [
        {
          "output_type": "stream",
          "name": "stdout",
          "text": [
            "<class 'pandas.core.frame.DataFrame'>\n",
            "RangeIndex: 6204 entries, 0 to 6203\n",
            "Data columns (total 9 columns):\n",
            " #   Column                  Non-Null Count  Dtype  \n",
            "---  ------                  --------------  -----  \n",
            " 0   Country                 6204 non-null   object \n",
            " 1   Year                    6204 non-null   int64  \n",
            " 2   Data.Daily cigarettes   6204 non-null   float64\n",
            " 3   Data.Percentage.Male    6204 non-null   float64\n",
            " 4   Data.Percentage.Female  6204 non-null   float64\n",
            " 5   Data.Percentage.Total   6204 non-null   float64\n",
            " 6   Data.Smokers.Total      6204 non-null   int64  \n",
            " 7   Data.Smokers.Female     6204 non-null   int64  \n",
            " 8   Data.Smokers.Male       6204 non-null   int64  \n",
            "dtypes: float64(4), int64(4), object(1)\n",
            "memory usage: 436.3+ KB\n"
          ]
        }
      ]
    },
    {
      "cell_type": "code",
      "source": [
        "#variables categoricas\n",
        "# con select_dtypes seleccionamos las columnas de data de tipo object\n",
        "columnas_categoricas = data.select_dtypes(include=['object']).columns"
      ],
      "metadata": {
        "id": "O-WHG7B8KQUz"
      },
      "execution_count": 46,
      "outputs": []
    },
    {
      "cell_type": "code",
      "source": [
        "print(columnas_categoricas)"
      ],
      "metadata": {
        "colab": {
          "base_uri": "https://localhost:8080/"
        },
        "id": "uK_gNeGTKS_J",
        "outputId": "cb4634bf-4609-49cc-98fb-78ecb98b70be"
      },
      "execution_count": 47,
      "outputs": [
        {
          "output_type": "stream",
          "name": "stdout",
          "text": [
            "Index(['Country'], dtype='object')\n"
          ]
        }
      ]
    },
    {
      "cell_type": "code",
      "source": [
        "#Procesamiento de frases o palabras\n",
        "for columna in columnas_categoricas:\n",
        "  # se crea una instancia (se utiliza para convetir categoricos a numericos)\n",
        "  le = LabelEncoder()\n",
        "  # cambia de categoricos a numericos unico\n",
        "  data[columna] = le.fit_transform(data[columna])"
      ],
      "metadata": {
        "id": "XmaC_wdcKVxt"
      },
      "execution_count": 48,
      "outputs": []
    },
    {
      "cell_type": "code",
      "source": [
        "data.info()"
      ],
      "metadata": {
        "colab": {
          "base_uri": "https://localhost:8080/"
        },
        "id": "SOOZ_uanKXPB",
        "outputId": "bd62f319-7746-4616-e853-2713b4598c31"
      },
      "execution_count": 49,
      "outputs": [
        {
          "output_type": "stream",
          "name": "stdout",
          "text": [
            "<class 'pandas.core.frame.DataFrame'>\n",
            "RangeIndex: 6204 entries, 0 to 6203\n",
            "Data columns (total 9 columns):\n",
            " #   Column                  Non-Null Count  Dtype  \n",
            "---  ------                  --------------  -----  \n",
            " 0   Country                 6204 non-null   int64  \n",
            " 1   Year                    6204 non-null   int64  \n",
            " 2   Data.Daily cigarettes   6204 non-null   float64\n",
            " 3   Data.Percentage.Male    6204 non-null   float64\n",
            " 4   Data.Percentage.Female  6204 non-null   float64\n",
            " 5   Data.Percentage.Total   6204 non-null   float64\n",
            " 6   Data.Smokers.Total      6204 non-null   int64  \n",
            " 7   Data.Smokers.Female     6204 non-null   int64  \n",
            " 8   Data.Smokers.Male       6204 non-null   int64  \n",
            "dtypes: float64(4), int64(5)\n",
            "memory usage: 436.3 KB\n"
          ]
        }
      ]
    },
    {
      "cell_type": "code",
      "source": [
        "# diccionario para renombrar las columnas\n",
        "nuevas_columnas = {\n",
        "    'Country': 'País',\n",
        "    'Year': 'Año',\n",
        "    'Data.Daily cigarettes': 'Cigarrillos_diarios',\n",
        "    'Data.Percentage.Male': 'Porcentaje_Hombres',\n",
        "    'Data.Percentage.Female': 'Porcentaje_Mujeres',\n",
        "    'Data.Percentage.Total': 'Porcentaje_Total',\n",
        "    'Data.Smokers.Total': 'Fumadores_Total',\n",
        "    'Data.Smokers.Female': 'Fumadoras_Mujeres',\n",
        "    'Data.Smokers.Male': 'Fumadores_Hombres'\n",
        "}\n",
        "\n",
        "data.rename(columns=nuevas_columnas, inplace=True)"
      ],
      "metadata": {
        "id": "reNgfLaWK9Pz"
      },
      "execution_count": 50,
      "outputs": []
    },
    {
      "cell_type": "code",
      "source": [
        "data.info()"
      ],
      "metadata": {
        "colab": {
          "base_uri": "https://localhost:8080/"
        },
        "id": "CE4TzBTKLjuU",
        "outputId": "4a88bbc7-30f9-43a2-8e67-51869dca82dd"
      },
      "execution_count": 51,
      "outputs": [
        {
          "output_type": "stream",
          "name": "stdout",
          "text": [
            "<class 'pandas.core.frame.DataFrame'>\n",
            "RangeIndex: 6204 entries, 0 to 6203\n",
            "Data columns (total 9 columns):\n",
            " #   Column               Non-Null Count  Dtype  \n",
            "---  ------               --------------  -----  \n",
            " 0   País                 6204 non-null   int64  \n",
            " 1   Año                  6204 non-null   int64  \n",
            " 2   Cigarrillos_diarios  6204 non-null   float64\n",
            " 3   Porcentaje_Hombres   6204 non-null   float64\n",
            " 4   Porcentaje_Mujeres   6204 non-null   float64\n",
            " 5   Porcentaje_Total     6204 non-null   float64\n",
            " 6   Fumadores_Total      6204 non-null   int64  \n",
            " 7   Fumadoras_Mujeres    6204 non-null   int64  \n",
            " 8   Fumadores_Hombres    6204 non-null   int64  \n",
            "dtypes: float64(4), int64(5)\n",
            "memory usage: 436.3 KB\n"
          ]
        }
      ]
    },
    {
      "cell_type": "code",
      "source": [
        "# Lectura de Datos\n",
        "# iloc accede a los datos\n",
        "columnas_seleccionadas = list(range(0, 6)) + list(range(7, 9))\n",
        "X = data.iloc[:, columnas_seleccionadas]\n",
        "y = data.iloc[:, 6]\n",
        "m = y.size"
      ],
      "metadata": {
        "id": "FtKjNp4yL9Ib"
      },
      "execution_count": 52,
      "outputs": []
    },
    {
      "cell_type": "code",
      "source": [
        "print(X)\n",
        "print('*'*20)\n",
        "print(y)\n",
        "print('*'*20)\n",
        "print(m)"
      ],
      "metadata": {
        "colab": {
          "base_uri": "https://localhost:8080/"
        },
        "id": "E_FgJKkBMDdO",
        "outputId": "2e1d7a8a-645b-4bdd-c1f4-1895e8cbb876"
      },
      "execution_count": 53,
      "outputs": [
        {
          "output_type": "stream",
          "name": "stdout",
          "text": [
            "      País   Año  Cigarrillos_diarios  Porcentaje_Hombres  Porcentaje_Mujeres  \\\n",
            "0        0  1980             5.700000                10.4           18.400000   \n",
            "1        0  1981             5.800000                10.5           18.400000   \n",
            "2        0  1982             5.800000                10.5           18.500000   \n",
            "3        0  1983             5.900000                10.5           18.600000   \n",
            "4        0  1984             6.000000                10.6           18.600000   \n",
            "...    ...   ...                  ...                 ...                 ...   \n",
            "6199   187  2008            20.100000                11.2           21.000000   \n",
            "6200   187  2009            20.299999                11.2           21.000000   \n",
            "6201   187  2010            20.500000                11.2           21.000000   \n",
            "6202   187  2011            20.600000                11.2           21.100000   \n",
            "6203   187  2012            20.600000                11.3           21.299999   \n",
            "\n",
            "      Porcentaje_Total  Fumadoras_Mujeres  Fumadores_Hombres  \n",
            "0                  2.4              81707             651813  \n",
            "1                  2.3              79276             640826  \n",
            "2                  2.3              76061             624355  \n",
            "3                  2.3              72411             604572  \n",
            "4                  2.3              68908             584905  \n",
            "...                ...                ...                ...  \n",
            "6199               2.0              75975             763631  \n",
            "6200               1.9              75216             770225  \n",
            "6201               1.9              75113             785817  \n",
            "6202               1.9              75791             812488  \n",
            "6203               1.9              78120             850896  \n",
            "\n",
            "[6204 rows x 8 columns]\n",
            "********************\n",
            "0       733520\n",
            "1       720102\n",
            "2       700415\n",
            "3       676984\n",
            "4       653812\n",
            "         ...  \n",
            "6199    839607\n",
            "6200    845442\n",
            "6201    860929\n",
            "6202    888279\n",
            "6203    929016\n",
            "Name: Fumadores_Total, Length: 6204, dtype: int64\n",
            "********************\n",
            "6204\n"
          ]
        }
      ]
    },
    {
      "cell_type": "code",
      "source": [
        "def  featureNormalize(X):\n",
        "    # Se crea una copia del conjunto de datos X para evitar modificar los datos originales.\n",
        "    X_norm = X.copy()\n",
        "    # se crea un arreglo de 0 para almacenar la media y desviacion estandar\n",
        "    mu = np.zeros(X.shape[1])\n",
        "    sigma = np.zeros(X.shape[1])\n",
        "\n",
        "    # media\n",
        "    mu = np.mean(X, axis = 0)\n",
        "    # desviacion estandar\n",
        "    sigma = np.std(X, axis = 0)\n",
        "    X_norm = (X - mu) / sigma\n",
        "\n",
        "    return X_norm, mu, sigma"
      ],
      "metadata": {
        "id": "Bvfq_yN9Mf8j"
      },
      "execution_count": 54,
      "outputs": []
    },
    {
      "cell_type": "code",
      "source": [
        "  # llama featureNormalize con los datos cargados\n",
        "X_norm, mu, sigma = featureNormalize(X)\n",
        "\n",
        "print(X)\n",
        "print('*'*20)\n",
        "print('Media calculada:', mu)\n",
        "print('*'*20)\n",
        "print('Desviación estandar calculada:', sigma)\n",
        "print('*'*20)\n",
        "print(X_norm)"
      ],
      "metadata": {
        "colab": {
          "base_uri": "https://localhost:8080/"
        },
        "id": "vpHQpapxMiEE",
        "outputId": "f51c7a9a-dd36-43e8-92d7-f53c9f337583"
      },
      "execution_count": 55,
      "outputs": [
        {
          "output_type": "stream",
          "name": "stdout",
          "text": [
            "      País   Año  Cigarrillos_diarios  Porcentaje_Hombres  Porcentaje_Mujeres  \\\n",
            "0        0  1980             5.700000                10.4           18.400000   \n",
            "1        0  1981             5.800000                10.5           18.400000   \n",
            "2        0  1982             5.800000                10.5           18.500000   \n",
            "3        0  1983             5.900000                10.5           18.600000   \n",
            "4        0  1984             6.000000                10.6           18.600000   \n",
            "...    ...   ...                  ...                 ...                 ...   \n",
            "6199   187  2008            20.100000                11.2           21.000000   \n",
            "6200   187  2009            20.299999                11.2           21.000000   \n",
            "6201   187  2010            20.500000                11.2           21.000000   \n",
            "6202   187  2011            20.600000                11.2           21.100000   \n",
            "6203   187  2012            20.600000                11.3           21.299999   \n",
            "\n",
            "      Porcentaje_Total  Fumadoras_Mujeres  Fumadores_Hombres  \n",
            "0                  2.4              81707             651813  \n",
            "1                  2.3              79276             640826  \n",
            "2                  2.3              76061             624355  \n",
            "3                  2.3              72411             604572  \n",
            "4                  2.3              68908             584905  \n",
            "...                ...                ...                ...  \n",
            "6199               2.0              75975             763631  \n",
            "6200               1.9              75216             770225  \n",
            "6201               1.9              75113             785817  \n",
            "6202               1.9              75791             812488  \n",
            "6203               1.9              78120             850896  \n",
            "\n",
            "[6204 rows x 8 columns]\n",
            "********************\n",
            "Media calculada: País                   9.350000e+01\n",
            "Año                    1.996000e+03\n",
            "Cigarrillos_diarios    1.985185e+01\n",
            "Porcentaje_Hombres     1.898888e+01\n",
            "Porcentaje_Mujeres     2.899818e+01\n",
            "Porcentaje_Total       9.149017e+00\n",
            "Fumadoras_Mujeres      1.687367e+06\n",
            "Fumadores_Hombres      7.625441e+06\n",
            "dtype: float64\n",
            "********************\n",
            "Desviación estandar calculada: País                   5.427016e+01\n",
            "Año                    9.521905e+00\n",
            "Cigarrillos_diarios    1.375378e+01\n",
            "Porcentaje_Hombres     9.181078e+00\n",
            "Porcentaje_Mujeres     1.297089e+01\n",
            "Porcentaje_Total       8.901671e+00\n",
            "Fumadoras_Mujeres      1.172509e+07\n",
            "Fumadores_Hombres      5.526768e+07\n",
            "dtype: float64\n",
            "********************\n",
            "          País       Año  Cigarrillos_diarios  Porcentaje_Hombres  \\\n",
            "0    -1.722862 -1.680336            -1.028943           -0.935498   \n",
            "1    -1.722862 -1.575315            -1.021672           -0.924606   \n",
            "2    -1.722862 -1.470294            -1.021672           -0.924606   \n",
            "3    -1.722862 -1.365273            -1.014401           -0.924606   \n",
            "4    -1.722862 -1.260252            -1.007130           -0.913714   \n",
            "...        ...       ...                  ...                 ...   \n",
            "6199  1.722862  1.260252             0.018042           -0.848362   \n",
            "6200  1.722862  1.365273             0.032583           -0.848362   \n",
            "6201  1.722862  1.470294             0.047125           -0.848362   \n",
            "6202  1.722862  1.575315             0.054396           -0.848362   \n",
            "6203  1.722862  1.680336             0.054396           -0.837470   \n",
            "\n",
            "      Porcentaje_Mujeres  Porcentaje_Total  Fumadoras_Mujeres  \\\n",
            "0              -0.817074         -0.758174          -0.136942   \n",
            "1              -0.817074         -0.769408          -0.137150   \n",
            "2              -0.809365         -0.769408          -0.137424   \n",
            "3              -0.801655         -0.769408          -0.137735   \n",
            "4              -0.801655         -0.769408          -0.138034   \n",
            "...                  ...               ...                ...   \n",
            "6199           -0.616625         -0.803110          -0.137431   \n",
            "6200           -0.616625         -0.814343          -0.137496   \n",
            "6201           -0.616625         -0.814343          -0.137505   \n",
            "6202           -0.608916         -0.814343          -0.137447   \n",
            "6203           -0.593497         -0.814343          -0.137248   \n",
            "\n",
            "      Fumadores_Hombres  \n",
            "0             -0.126179  \n",
            "1             -0.126378  \n",
            "2             -0.126676  \n",
            "3             -0.127034  \n",
            "4             -0.127390  \n",
            "...                 ...  \n",
            "6199          -0.124156  \n",
            "6200          -0.124037  \n",
            "6201          -0.123754  \n",
            "6202          -0.123272  \n",
            "6203          -0.122577  \n",
            "\n",
            "[6204 rows x 8 columns]\n"
          ]
        }
      ]
    },
    {
      "cell_type": "code",
      "source": [
        "# Añade el termino de interseccion a X\n",
        "# (Columna de unos para X0)\n",
        "# np.ones(m, numero de columnas)\n",
        "X = np.concatenate([np.ones((m, 1)), X_norm], axis=1)"
      ],
      "metadata": {
        "id": "PKJVYdErMkPn"
      },
      "execution_count": 56,
      "outputs": []
    },
    {
      "cell_type": "code",
      "source": [
        "print(X)"
      ],
      "metadata": {
        "colab": {
          "base_uri": "https://localhost:8080/"
        },
        "id": "PVKk2zKWMmTN",
        "outputId": "1fed8cdb-9e5c-4de8-85c6-47f28b42d00f"
      },
      "execution_count": 57,
      "outputs": [
        {
          "output_type": "stream",
          "name": "stdout",
          "text": [
            "[[ 1.         -1.72286214 -1.6803361  ... -0.75817413 -0.13694223\n",
            "  -0.12617912]\n",
            " [ 1.         -1.72286214 -1.57531509 ... -0.76940799 -0.13714956\n",
            "  -0.12637792]\n",
            " [ 1.         -1.72286214 -1.47029409 ... -0.76940799 -0.13742376\n",
            "  -0.12667594]\n",
            " ...\n",
            " [ 1.          1.72286214  1.47029409 ... -0.81434337 -0.13750461\n",
            "  -0.12375449]\n",
            " [ 1.          1.72286214  1.57531509 ... -0.81434337 -0.13744679\n",
            "  -0.12327191]\n",
            " [ 1.          1.72286214  1.6803361  ... -0.81434337 -0.13724816\n",
            "  -0.12257696]]\n"
          ]
        }
      ]
    },
    {
      "cell_type": "code",
      "source": [
        "def computeCostMulti(X, y, theta):\n",
        "    # Inicializa algunos valores utiles\n",
        "    # shape == devuelve el tamaño de la primera dimensión del arreglo\n",
        "    m = y.shape[0] # numero de ejemplos de entrenamiento\n",
        "\n",
        "    # valor del costo\n",
        "    J = 0\n",
        "\n",
        "    # Se calcula la hipótesis\n",
        "    h = np.dot(X, theta)\n",
        "\n",
        "    # square == elevado\n",
        "    J = (1/(2 * m)) * np.sum(np.square(np.dot(X, theta) - y))\n",
        "\n",
        "    return J"
      ],
      "metadata": {
        "id": "0HlYo3PcMoeJ"
      },
      "execution_count": 58,
      "outputs": []
    },
    {
      "cell_type": "code",
      "source": [
        "def gradientDescentMulti(X, y, theta, alpha, num_iters):\n",
        "\n",
        "    # Inicializa algunos valores\n",
        "    m = y.shape[0] # numero de ejemplos de entrenamiento\n",
        "\n",
        "    # realiza una copia de theta, el cual será actualizada por el descenso por el gradiente\n",
        "    theta = theta.copy()\n",
        "\n",
        "    J_history = []\n",
        "\n",
        "    for i in range(num_iters):\n",
        "        theta = theta - (alpha / m) * (np.dot(X, theta) - y).dot(X)\n",
        "        J_history.append(computeCostMulti(X, y, theta))\n",
        "\n",
        "    return theta, J_history"
      ],
      "metadata": {
        "id": "rrDbCKSZMqMU"
      },
      "execution_count": 59,
      "outputs": []
    },
    {
      "cell_type": "code",
      "source": [
        "# Elegir algun valor para alpha (probar varias alternativas)\n",
        "alpha = 0.001\n",
        "num_iters = 2950\n",
        "\n",
        "# inicializa theta y ejecuta el descenso por el gradiente\n",
        "theta = np.zeros(9)\n",
        "theta, J_history = gradientDescentMulti(X, y, theta, alpha, num_iters)\n",
        "\n",
        "# Grafica la convergencia del costo\n",
        "pyplot.plot(np.arange(len(J_history)), J_history, lw=2)\n",
        "pyplot.xlabel('Numero de iteraciones')\n",
        "pyplot.ylabel('Costo J')\n",
        "\n",
        "# Muestra los resultados del descenso por el gradiente\n",
        "print('theta calculado por el descenso por el gradiente: {:s}'.format(str(theta)))\n",
        "\n",
        "#733520\n",
        "# Estimar el número total de fumadores con distintas caracteristicas\n",
        "X_array = [1, 0, 1980, 5.7, 10.4, 18.4, 2.4, 81707, 651813]\n",
        "X_array[1:9] = (X_array[1:9] - mu) / sigma\n",
        "price = np.dot(X_array, theta)   # Se debe cambiar esto\n",
        "\n",
        "print('El valor predecido es (usando el descenso por el gradiente): {:.4f}'.format(price))"
      ],
      "metadata": {
        "colab": {
          "base_uri": "https://localhost:8080/",
          "height": 538
        },
        "id": "fyazYqJbMsJP",
        "outputId": "57f6473d-eee1-4375-a8b0-98fb18745566"
      },
      "execution_count": 60,
      "outputs": [
        {
          "output_type": "stream",
          "name": "stdout",
          "text": [
            "theta calculado por el descenso por el gradiente: [ 8826097.30627829  -446706.34056488   283402.35491033  -120276.3025465\n",
            "   164679.72721091  1290131.49469696 -1909881.02392708 31153880.87793867\n",
            " 35533400.54315265]\n",
            "El valor predecido es (usando el descenso por el gradiente): 733233.2786\n"
          ]
        },
        {
          "output_type": "display_data",
          "data": {
            "text/plain": [
              "<Figure size 640x480 with 1 Axes>"
            ],
            "image/png": "[encoded data removed]"
          },
          "metadata": {}
        }
      ]
    },
    {
      "cell_type": "markdown",
      "source": [
        "# Ecuación de la normal"
      ],
      "metadata": {
        "id": "cOe441KONRpW"
      }
    },
    {
      "cell_type": "code",
      "source": [
        "print(data)"
      ],
      "metadata": {
        "colab": {
          "base_uri": "https://localhost:8080/"
        },
        "id": "MFpiq_x4ETo7",
        "outputId": "e73b65f6-5b64-4817-f756-a283e30576d7"
      },
      "execution_count": 61,
      "outputs": [
        {
          "output_type": "stream",
          "name": "stdout",
          "text": [
            "      País   Año  Cigarrillos_diarios  Porcentaje_Hombres  Porcentaje_Mujeres  \\\n",
            "0        0  1980             5.700000                10.4           18.400000   \n",
            "1        0  1981             5.800000                10.5           18.400000   \n",
            "2        0  1982             5.800000                10.5           18.500000   \n",
            "3        0  1983             5.900000                10.5           18.600000   \n",
            "4        0  1984             6.000000                10.6           18.600000   \n",
            "...    ...   ...                  ...                 ...                 ...   \n",
            "6199   187  2008            20.100000                11.2           21.000000   \n",
            "6200   187  2009            20.299999                11.2           21.000000   \n",
            "6201   187  2010            20.500000                11.2           21.000000   \n",
            "6202   187  2011            20.600000                11.2           21.100000   \n",
            "6203   187  2012            20.600000                11.3           21.299999   \n",
            "\n",
            "      Porcentaje_Total  Fumadores_Total  Fumadoras_Mujeres  Fumadores_Hombres  \n",
            "0                  2.4           733520              81707             651813  \n",
            "1                  2.3           720102              79276             640826  \n",
            "2                  2.3           700415              76061             624355  \n",
            "3                  2.3           676984              72411             604572  \n",
            "4                  2.3           653812              68908             584905  \n",
            "...                ...              ...                ...                ...  \n",
            "6199               2.0           839607              75975             763631  \n",
            "6200               1.9           845442              75216             770225  \n",
            "6201               1.9           860929              75113             785817  \n",
            "6202               1.9           888279              75791             812488  \n",
            "6203               1.9           929016              78120             850896  \n",
            "\n",
            "[6204 rows x 9 columns]\n"
          ]
        }
      ]
    },
    {
      "cell_type": "code",
      "source": [
        "# Lectura de Datos\n",
        "# iloc accede a los datos\n",
        "columnas_seleccionadas = list(range(0, 6)) + list(range(7, 9))\n",
        "X = data.iloc[:, columnas_seleccionadas]\n",
        "y = data.iloc[:, 6]\n",
        "m = y.size"
      ],
      "metadata": {
        "id": "g3XpfiLtEbI_"
      },
      "execution_count": 62,
      "outputs": []
    },
    {
      "cell_type": "code",
      "source": [
        "print(X)\n",
        "print('*'*25)\n",
        "print(y)"
      ],
      "metadata": {
        "colab": {
          "base_uri": "https://localhost:8080/"
        },
        "id": "rVKoAWW8EhBo",
        "outputId": "67589c4a-a3f5-4c9b-f7a4-83ca24668dc6"
      },
      "execution_count": 63,
      "outputs": [
        {
          "output_type": "stream",
          "name": "stdout",
          "text": [
            "      País   Año  Cigarrillos_diarios  Porcentaje_Hombres  Porcentaje_Mujeres  \\\n",
            "0        0  1980             5.700000                10.4           18.400000   \n",
            "1        0  1981             5.800000                10.5           18.400000   \n",
            "2        0  1982             5.800000                10.5           18.500000   \n",
            "3        0  1983             5.900000                10.5           18.600000   \n",
            "4        0  1984             6.000000                10.6           18.600000   \n",
            "...    ...   ...                  ...                 ...                 ...   \n",
            "6199   187  2008            20.100000                11.2           21.000000   \n",
            "6200   187  2009            20.299999                11.2           21.000000   \n",
            "6201   187  2010            20.500000                11.2           21.000000   \n",
            "6202   187  2011            20.600000                11.2           21.100000   \n",
            "6203   187  2012            20.600000                11.3           21.299999   \n",
            "\n",
            "      Porcentaje_Total  Fumadoras_Mujeres  Fumadores_Hombres  \n",
            "0                  2.4              81707             651813  \n",
            "1                  2.3              79276             640826  \n",
            "2                  2.3              76061             624355  \n",
            "3                  2.3              72411             604572  \n",
            "4                  2.3              68908             584905  \n",
            "...                ...                ...                ...  \n",
            "6199               2.0              75975             763631  \n",
            "6200               1.9              75216             770225  \n",
            "6201               1.9              75113             785817  \n",
            "6202               1.9              75791             812488  \n",
            "6203               1.9              78120             850896  \n",
            "\n",
            "[6204 rows x 8 columns]\n",
            "*************************\n",
            "0       733520\n",
            "1       720102\n",
            "2       700415\n",
            "3       676984\n",
            "4       653812\n",
            "         ...  \n",
            "6199    839607\n",
            "6200    845442\n",
            "6201    860929\n",
            "6202    888279\n",
            "6203    929016\n",
            "Name: Fumadores_Total, Length: 6204, dtype: int64\n"
          ]
        }
      ]
    },
    {
      "cell_type": "code",
      "source": [
        "X = np.concatenate([np.ones((m, 1)), X], axis=1)"
      ],
      "metadata": {
        "id": "1-LTaUf1Ej9R"
      },
      "execution_count": 64,
      "outputs": []
    },
    {
      "cell_type": "code",
      "source": [
        "# importante que para usar m>n, evitar datos redundantes, no se normaliza\n",
        "def normalEqn(X, y):\n",
        "\n",
        "    theta = np.zeros(X.shape[1])\n",
        "\n",
        "    theta = np.dot(np.dot(np.linalg.inv(np.dot(X.T,X)),X.T),y)\n",
        "\n",
        "    return theta"
      ],
      "metadata": {
        "id": "DVKnGZSKEmpQ"
      },
      "execution_count": 65,
      "outputs": []
    },
    {
      "cell_type": "code",
      "source": [
        "# Calcula los parametros con la ecuación de la normal\n",
        "theta = normalEqn(X, y);\n",
        "\n",
        "# Muestra los resultados optenidos a partir de la aplicación de la ecuación de la normal\n",
        "print('Theta calculado a partir de la ecuación de la normal: {:s}'.format(str(theta)));\n",
        "\n",
        "# Estimar el número total de fumadores con distintas caracteristicas\n",
        "\n",
        "X_array = [1, 0, 1980, 5.7, 10.4, 18.4, 2.4, 81707, 651813]\n",
        "price = np.dot(X_array, theta)\n",
        "\n",
        "print('Precio predecido para una cada de superficie de 1650 sq-ft y 3 dormitorios (usando la ecuación de la normal): ${:.0f}'.format(price))"
      ],
      "metadata": {
        "colab": {
          "base_uri": "https://localhost:8080/"
        },
        "id": "h4LseiDbEnl5",
        "outputId": "2e03f1f4-8979-40c3-e9a3-ae6b37f06021"
      },
      "execution_count": 66,
      "outputs": [
        {
          "output_type": "stream",
          "name": "stdout",
          "text": [
            "Theta calculado a partir de la ecuación de la normal: [ 1.13623824e+01 -3.44851410e-04 -5.71298261e-03  9.51711870e-04\n",
            "  1.96810060e-02 -6.50488687e-03 -9.91816588e-03  9.99999980e-01\n",
            "  9.99999995e-01]\n",
            "Precio predecido para una cada de superficie de 1650 sq-ft y 3 dormitorios (usando la ecuación de la normal): $733520\n"
          ]
        }
      ]
    }
  ]
}